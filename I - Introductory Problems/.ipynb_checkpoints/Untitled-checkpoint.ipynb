{
 "cells": [
  {
   "cell_type": "markdown",
   "metadata": {},
   "source": [
    "**In how many ways can 33 boys be divided into 3 football teams of 11 boys each?**"
   ]
  },
  {
   "cell_type": "markdown",
   "metadata": {},
   "source": [
    "________\n",
    "\n",
    "- First, we consider the number of ways we can pick the boys for the first of the three teams\n",
    "    - There are 33 boys, and we're picking 11 of them, therefore there are $\\binom{33}{11}$ ways to choose the players on the first team"
   ]
  },
  {
   "cell_type": "markdown",
   "metadata": {},
   "source": [
    "- Once the players for the first team are selected, we need to choose the players for the second team\n",
    "    - Since 11 have been chosen from the pool, there are 22 remaining\n",
    "        - Therefore, there are $\\binom{22}{11}$ ways to choose the players for the second team"
   ]
  },
  {
   "cell_type": "markdown",
   "metadata": {},
   "source": [
    "- Finally, we need to choose the players for the third team\n",
    "    - But since we've already taken 22 players out of the pool, there are only 11 remaining\n",
    "        - Therefore, the number of ways we can choose the players for the last team is equal to $\\binom{11}{11} = 1$"
   ]
  },
  {
   "cell_type": "markdown",
   "metadata": {},
   "source": [
    "- To put it all together, there are $\\binom{33}{11}$ ways to choose the first team, $\\binom{22}{11}$ ways to choose the second team, and 1 way to choose the third"
   ]
  },
  {
   "cell_type": "markdown",
   "metadata": {},
   "source": [
    "- But now, we have to think about how we choose which team is \"first\" to choose its 11 players, and which team is \"second\", etc.\n",
    "    - The reason we have to consider this is that according to our analysis so far, the order matters\n",
    "        - But we don't care about this order. We only care about the sets of players\n",
    "            - There are 3 ways to choose the \"first\" team, and 2 ways to choose the \"second\" team, so there are $3\\cdot2 = 6$ ways the order can be selected\n",
    "                - Since the ordering doesn't matter, these team selections are equivalent"
   ]
  },
  {
   "cell_type": "markdown",
   "metadata": {},
   "source": [
    "- Therefore:\n",
    "\n",
    "$$\n",
    "\\text{Number of ways} = \\frac{\\binom{33}{11}\\cdot\\binom{22}{11}\\cdot 1}{6}\n",
    "$$"
   ]
  },
  {
   "cell_type": "markdown",
   "metadata": {},
   "source": [
    "- Another way to think about this is that there are $33!$ different permutations of the players, and for each, we take the ordering and split it into three lists each with 11 players\n",
    "    - Since the order that the team is selected doesn't matter, each we divide the number of lists for each team by $11!$ therefore our count is equal to $\\frac{33!}{(11!)^{3}}$\n",
    "        - Now, since a team is a team and it doesn't matter if it's team 1, 2, or 3, then there are 3 ways to get each team\n",
    "            - So now we divide our value by $3!$ to get $\\frac{33!}{(11!)^{3}}\\frac{1}{3!} = \\binom{33}{11}\\cdot\\binom{22}{11}\\cdot\\binom{11}{11}\\frac{1}{3!} = \\frac{\\binom{33}{11}\\cdot\\binom{22}{11}\\cdot 1}{6}$"
   ]
  },
  {
   "cell_type": "markdown",
   "metadata": {},
   "source": [
    "_____\n",
    "\n",
    "- Since 33 players leads to a super high number of ways, let's shrink it to 6 and form 3 teams of 3\n",
    "    - Now, we can loop through the combinations to tie out to the value we expect"
   ]
  },
  {
   "cell_type": "markdown",
   "metadata": {},
   "source": [
    "- For 6 players, the number of ways is equal to:\n",
    "\n",
    "$$\n",
    "\\frac{\\binom{6}{2}\\binom{4}{2}}{3!} = 15\n",
    "$$"
   ]
  },
  {
   "cell_type": "markdown",
   "metadata": {},
   "source": [
    "- **Note**: $\\binom{6}{2} = \\frac{6\\cdot5}{2} = 15$, $\\binom{4}{2} = \\frac{4\\cdot3}{2} = 6$, and $3!=6$"
   ]
  },
  {
   "cell_type": "markdown",
   "metadata": {},
   "source": [
    "- Let's try to tie out to this value (15)"
   ]
  },
  {
   "cell_type": "code",
   "execution_count": 1,
   "metadata": {},
   "outputs": [],
   "source": [
    "from itertools import permutations"
   ]
  },
  {
   "cell_type": "code",
   "execution_count": 6,
   "metadata": {},
   "outputs": [],
   "source": [
    "list_players = list(range(6))\n",
    "\n",
    "list_teams = []\n",
    "\n",
    "for order in permutations(list_players):\n",
    "    team_1 = sorted(order[:2])\n",
    "    team_2 = sorted(order[2:4])\n",
    "    team_3 = sorted(order[-2:])\n",
    "    for team in [team_1, team_2, team_3]:\n",
    "        if team not in list_teams:\n",
    "            list_teams.append(team)"
   ]
  },
  {
   "cell_type": "code",
   "execution_count": 8,
   "metadata": {},
   "outputs": [
    {
     "data": {
      "text/plain": [
       "15"
      ]
     },
     "execution_count": 8,
     "metadata": {},
     "output_type": "execute_result"
    }
   ],
   "source": [
    "len(list_teams)"
   ]
  },
  {
   "cell_type": "markdown",
   "metadata": {},
   "source": [
    "- Eyyyyy"
   ]
  }
 ],
 "metadata": {
  "kernelspec": {
   "display_name": "Python 3",
   "language": "python",
   "name": "python3"
  },
  "language_info": {
   "codemirror_mode": {
    "name": "ipython",
    "version": 3
   },
   "file_extension": ".py",
   "mimetype": "text/x-python",
   "name": "python",
   "nbconvert_exporter": "python",
   "pygments_lexer": "ipython3",
   "version": "3.7.2"
  }
 },
 "nbformat": 4,
 "nbformat_minor": 2
}
