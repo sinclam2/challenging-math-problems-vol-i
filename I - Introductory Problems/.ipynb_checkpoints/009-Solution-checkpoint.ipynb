{
 "cells": [
  {
   "cell_type": "markdown",
   "metadata": {},
   "source": [
    "**A group of 11 scientists are working on a secret project, the materials of\n",
    "which are kept in a safe.**\n",
    "\n",
    "**They want to be able to open the safe only when a majority of the group is present.**\n",
    "\n",
    "**Therefore the safe is provided with a number of different locks, and each scientist is given the keys to certain of these locks.**\n",
    "\n",
    "***How many locks are required, and how many keys must each scientist have?***"
   ]
  },
  {
   "cell_type": "markdown",
   "metadata": {},
   "source": [
    "_____"
   ]
  },
  {
   "cell_type": "markdown",
   "metadata": {},
   "source": [
    "- Let's assume we've designed the system perfectly where if we select a random set of 5 scientists, they'll be able to open **all but one** of the locks\n",
    "    - We require this condition since **no minority of scientists should never be able to open all the locks**"
   ]
  },
  {
   "cell_type": "markdown",
   "metadata": {},
   "source": [
    "- Now, our problem requires that by adding **any random additional** scientist, we'll have keys to all the locks\n",
    "    - Recall: the problem says that if a majority of scientists is selected, they should be able to open the locks\n",
    "        - Therefore 5 scientists should **never** have enough keys, but 6 scientists should **always** have enough keys\n",
    "    - So, all 6 of the remaining scientists must have a key for the last lock"
   ]
  },
  {
   "cell_type": "markdown",
   "metadata": {},
   "source": [
    "- So, so far, we have that any 5 scientists can open $n$ locks, and any 6 scientists can open $n+1$ locks\n",
    "    - Therefore we have a total of $n+1$ locks, and we need to figure out what $n$ is"
   ]
  },
  {
   "cell_type": "markdown",
   "metadata": {},
   "source": [
    "- If we denote $S_{1}$ as the set of keys that scientist 1 has, $S_{2}$ for scientist 2, ..., $S_{11}$ for scientist 11, then we have the two following conditions:\n",
    "\n",
    "**Condition 1**\n",
    "\n",
    "For any set $N$ of **5 distinct** integers in $\\{1,2,...,11\\}$:\n",
    "$$\n",
    "\\bigcup_{i \\in N}S_{k}\\text{ has } n\\text{ elements}\n",
    "$$\n",
    "\n",
    "**Condition 2**\n",
    "\n",
    "For any set $N$ of **6 distinct** integers in $\\{1,2,...,11\\}$:\n",
    "$$\n",
    "\\bigcup_{i \\in N}S_{k}\\text{ has } n+1\\text{ elements}\n",
    "$$"
   ]
  },
  {
   "cell_type": "markdown",
   "metadata": {},
   "source": [
    "- But from the combination of these two conditions, we have:\n",
    "\n",
    "**Condition 3**\n",
    "\n",
    "For any set $N$ of **6 distinct** integers in $\\{1,2,...,11\\}$:\n",
    "$$\n",
    "\\bigcap_{i \\in N}S_{k}\\text{ has at least } 1\\text{ element}\n",
    "$$"
   ]
  },
  {
   "cell_type": "markdown",
   "metadata": {},
   "source": [
    "- *What does this mean?*\n",
    "    - It's just a restatement of what we've already said i.e. if we have a random group of 5 scientists, we should be able to add one more to the group and be able to open the last lock\n",
    "        - Therefore, each of the remaining scientists should have a key to the last lock\n",
    "            - So, the intersection of their sets of keys should contain the key to the last lock"
   ]
  },
  {
   "cell_type": "markdown",
   "metadata": {},
   "source": [
    "- This means that when the keys are assigned to the scientists, we loop through each possible subset of size 6 and give them a key\n",
    "    - That way, any subset of 6 scientists has **one key in common**\n",
    "        - The number of possible subsets is equal to $\\binom{11}{6} = 462$"
   ]
  },
  {
   "cell_type": "markdown",
   "metadata": {},
   "source": [
    "- So, we loop through each of the 462 subsets\n",
    "    - This means that there are 462 locks, and $462 \\cdot 6 = 2772$ keys are given out \n",
    "    - So, each scientist must have $2772/11 = 252$ keys"
   ]
  },
  {
   "cell_type": "markdown",
   "metadata": {},
   "source": [
    "- In conclusion, there are **462** distinct locks, and each scientist gets **252** keys"
   ]
  }
 ],
 "metadata": {
  "kernelspec": {
   "display_name": "Python 3",
   "language": "python",
   "name": "python3"
  },
  "language_info": {
   "codemirror_mode": {
    "name": "ipython",
    "version": 3
   },
   "file_extension": ".py",
   "mimetype": "text/x-python",
   "name": "python",
   "nbconvert_exporter": "python",
   "pygments_lexer": "ipython3",
   "version": "3.7.2"
  }
 },
 "nbformat": 4,
 "nbformat_minor": 2
}
