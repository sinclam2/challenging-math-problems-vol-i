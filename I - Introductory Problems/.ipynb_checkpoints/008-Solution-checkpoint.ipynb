{
 "cells": [
  {
   "cell_type": "markdown",
   "metadata": {},
   "source": [
    "**A store sells 11 different flavors of ice cream. In how many ways can a customer choose 6 ice cream cones, not necessarily of different flavors?**"
   ]
  },
  {
   "cell_type": "markdown",
   "metadata": {},
   "source": [
    "____\n",
    "\n",
    "- This reminds me of a similar problem: [*in how many ways can X letters be stuffed into Y mailboxes?*](https://github.com/sinclam2/intro-to-probability-solutions/blob/af4f6b99aad5d1a2a4953c83e70be344b93cd8bf/03.2-combinations/22-Solution.ipynb)"
   ]
  },
  {
   "cell_type": "markdown",
   "metadata": {},
   "source": [
    "- So, we treat each ice cream cone as a letter and each flavor as a mailbox\n",
    "    - *Equivalent question*: in how many ways can 6 indistinguishable letters be placed into 11 mailboxes?"
   ]
  },
  {
   "cell_type": "markdown",
   "metadata": {},
   "source": [
    "- So, using the logic from the linked solution, we'd have 10 \"walls\" and 6 \"letters\"\n",
    "    - This means that each possibility is some permutation of ['W','W','W','W','W','W','W','W','W','W','L','L','L','L','L','L']"
   ]
  },
  {
   "cell_type": "markdown",
   "metadata": {},
   "source": [
    "- The since all the 'W's and 'L's are indistinguishable from eachother, we can count the ways as:\n",
    "\n",
    "$$\n",
    "\\frac{16!}{10!6!} = \\binom{16}{10} = 8008\n",
    "$$"
   ]
  },
  {
   "cell_type": "markdown",
   "metadata": {},
   "source": [
    "_____\n",
    "\n",
    "- Let's loop through all the different ways to tie out to this result"
   ]
  },
  {
   "cell_type": "code",
   "execution_count": 24,
   "metadata": {},
   "outputs": [],
   "source": [
    "import numpy as np"
   ]
  },
  {
   "cell_type": "code",
   "execution_count": 57,
   "metadata": {},
   "outputs": [],
   "source": [
    "array_flavors = (np.arange(11),)*6\n",
    "meshgrid = np.meshgrid(*array_flavors)\n",
    "array_cones = np.transpose(np.array([x.ravel() for x in meshgrid]))"
   ]
  },
  {
   "cell_type": "code",
   "execution_count": 60,
   "metadata": {},
   "outputs": [],
   "source": [
    "array_distinct_cones = np.unique(np.sort(array_cones, axis=1), axis=0)"
   ]
  },
  {
   "cell_type": "code",
   "execution_count": 62,
   "metadata": {},
   "outputs": [
    {
     "data": {
      "text/plain": [
       "8008"
      ]
     },
     "execution_count": 62,
     "metadata": {},
     "output_type": "execute_result"
    }
   ],
   "source": [
    "len(array_distinct_cones)"
   ]
  },
  {
   "cell_type": "markdown",
   "metadata": {},
   "source": [
    "- Eyyyyy"
   ]
  }
 ],
 "metadata": {
  "kernelspec": {
   "display_name": "Python 3",
   "language": "python",
   "name": "python3"
  },
  "language_info": {
   "codemirror_mode": {
    "name": "ipython",
    "version": 3
   },
   "file_extension": ".py",
   "mimetype": "text/x-python",
   "name": "python",
   "nbconvert_exporter": "python",
   "pygments_lexer": "ipython3",
   "version": "3.7.2"
  }
 },
 "nbformat": 4,
 "nbformat_minor": 2
}
