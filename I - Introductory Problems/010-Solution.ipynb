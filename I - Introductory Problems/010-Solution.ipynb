{
 "cells": [
  {
   "cell_type": "markdown",
   "metadata": {},
   "source": [
    "**The integers from 1 to 1000 are written in order around a circle.**\n",
    "\n",
    "**Starting at I, every fifteenth number is marked (that is, I, 16, 31, etc.).**\n",
    "\n",
    "**This process is continued until a number is reached which has already\n",
    "been marked.**\n",
    "\n",
    "***How many unmarked numbers remain?***"
   ]
  },
  {
   "cell_type": "markdown",
   "metadata": {},
   "source": [
    "_____\n",
    "\n",
    "- We start by thinking about the numbers marked on the first pass\n",
    "    - Each number can be expressed as:\n",
    "    \n",
    "$$\n",
    "n_{j}^{(1)} = 1 + 15j\n",
    "$$"
   ]
  },
  {
   "cell_type": "markdown",
   "metadata": {},
   "source": [
    "- The value of $1000/15 \\approx 66.67$\n",
    "    - So, $n_{66}^{(1)} = 1 + 66\\cdot15 = 991$ is the last value marked on the first pass\n",
    "\n",
    "- This means that we've marked 67 numbers on the first pass (not 66 since $j=0$ leads to our first value of 1)"
   ]
  },
  {
   "cell_type": "markdown",
   "metadata": {},
   "source": [
    "- The next number is $(991 + 15) = 1006 \\rightarrow 6$"
   ]
  },
  {
   "cell_type": "markdown",
   "metadata": {},
   "source": [
    "- Therefore, the numbers marked on the second pass can be expressed as:\n",
    "\n",
    "$$\n",
    "n_{k}^{(2)} = 6 + 15k\n",
    "$$"
   ]
  },
  {
   "cell_type": "markdown",
   "metadata": {},
   "source": [
    "- If a number is marked on the second pass that was already marked on the first pass, there must be $j$ and $k$ such that:\n",
    "\n",
    "$$\n",
    "6 + 15k = 1 + 15j \\implies 5 = 15(j - k) \\implies j - k = 1/3\n",
    "$$"
   ]
  },
  {
   "cell_type": "markdown",
   "metadata": {},
   "source": [
    "- Since $j$ and $k$ are both integers, this is not possible\n",
    "    - Therefore, no values are marked for a second time on the second pass"
   ]
  },
  {
   "cell_type": "markdown",
   "metadata": {},
   "source": [
    "- If we set $k=66 \\rightarrow n_{66}^{(2)} = 996$, so on our second pass, we also marked 67 numbers"
   ]
  },
  {
   "cell_type": "markdown",
   "metadata": {},
   "source": [
    "- Then $996 + 15 = 1011 \\rightarrow 11$ so:\n",
    "\n",
    "$$\n",
    "n_{l}^{(3)} = 11 + 15l\n",
    "$$"
   ]
  },
  {
   "cell_type": "markdown",
   "metadata": {},
   "source": [
    "- So, if we've already marked one of the numbers we encounter on the third pass, one of the following equations will be satisfied:\n",
    "\n",
    "$$\n",
    "1 + 15i = 11 + 15l \\implies 10 = 15(l-i) \\implies i-l = 2/3\n",
    "$$\n",
    "\n",
    "$$\n",
    "6 + 15k = 11 + 15l \\implies 5 = 15(k-l) \\implies k-l = 1/3\n",
    "$$"
   ]
  },
  {
   "cell_type": "markdown",
   "metadata": {},
   "source": [
    "- So neither of the two equations have integer solutions, and we go around for a fourth time"
   ]
  },
  {
   "cell_type": "markdown",
   "metadata": {},
   "source": [
    "- $65\\cdot15 + 11 = 986 \\implies$ 66 new numbers were marked on the third pass"
   ]
  },
  {
   "cell_type": "markdown",
   "metadata": {},
   "source": [
    "- $986 + 15 = 1001 \\rightarrow 1 \\implies$ all numbers marked on the fourth pass can be expressed as:\n",
    "\n",
    "$$\n",
    "n_{m}^{(4)} = 1 + 15m\n",
    "$$"
   ]
  },
  {
   "cell_type": "markdown",
   "metadata": {},
   "source": [
    "- But we've already seen this $\\implies n_{i}^{(1)} = n_{i}^{(4)}$"
   ]
  },
  {
   "cell_type": "markdown",
   "metadata": {},
   "source": [
    "- Therefore, the first number we mark on the fourth pass is 1, and we stop"
   ]
  },
  {
   "cell_type": "markdown",
   "metadata": {},
   "source": [
    "- We marked 67 on the first pass, 67 on the second, and 66 on the third for a total of 200 numbers marked\n",
    "    - Therefore, there are $1000-200 = 800$ numbers that remain unmarked"
   ]
  },
  {
   "cell_type": "markdown",
   "metadata": {},
   "source": [
    "____\n",
    "\n",
    "- Let's write a loop to tie out to our value above"
   ]
  },
  {
   "cell_type": "code",
   "execution_count": 42,
   "metadata": {},
   "outputs": [],
   "source": [
    "i = 1\n",
    "\n",
    "list_values = []\n",
    "\n",
    "while i not in list_values:\n",
    "    list_values.append(i)\n",
    "    i = (i + 15) % 1000"
   ]
  },
  {
   "cell_type": "code",
   "execution_count": 43,
   "metadata": {
    "scrolled": false
   },
   "outputs": [
    {
     "data": {
      "text/plain": [
       "200"
      ]
     },
     "execution_count": 43,
     "metadata": {},
     "output_type": "execute_result"
    }
   ],
   "source": [
    "len(list_values)"
   ]
  },
  {
   "cell_type": "markdown",
   "metadata": {},
   "source": [
    "- And just to be sure"
   ]
  },
  {
   "cell_type": "code",
   "execution_count": 45,
   "metadata": {},
   "outputs": [
    {
     "data": {
      "text/plain": [
       "800"
      ]
     },
     "execution_count": 45,
     "metadata": {},
     "output_type": "execute_result"
    }
   ],
   "source": [
    "len([x for x in range(1, 1001) if x not in list_values])"
   ]
  },
  {
   "cell_type": "markdown",
   "metadata": {},
   "source": [
    "- Eyyy"
   ]
  }
 ],
 "metadata": {
  "kernelspec": {
   "display_name": "Python 3",
   "language": "python",
   "name": "python3"
  },
  "language_info": {
   "codemirror_mode": {
    "name": "ipython",
    "version": 3
   },
   "file_extension": ".py",
   "mimetype": "text/x-python",
   "name": "python",
   "nbconvert_exporter": "python",
   "pygments_lexer": "ipython3",
   "version": "3.7.2"
  }
 },
 "nbformat": 4,
 "nbformat_minor": 2
}
