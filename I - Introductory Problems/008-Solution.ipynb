{
 "cells": [
  {
   "cell_type": "markdown",
   "metadata": {},
   "source": [
    "**A store sells 11 different flavors of ice cream. In how many ways can a customer choose 6 ice cream cones, not necessarily of different flavors?**"
   ]
  },
  {
   "cell_type": "markdown",
   "metadata": {},
   "source": [
    "____\n",
    "\n",
    "- This reminds me of a similar problem: [*in how many ways can X letters be stuffed into Y mailboxes?*](https://github.com/sinclam2/intro-to-probability-solutions/blob/af4f6b99aad5d1a2a4953c83e70be344b93cd8bf/03.2-combinations/22-Solution.ipynb)"
   ]
  },
  {
   "cell_type": "markdown",
   "metadata": {},
   "source": [
    "- So, we treat each ice cream cone as a letter and each flavor as a mailbox\n",
    "    - *Equivalent question*: in how many ways can 6 indistinguishable letters be placed into 11 mailboxes?\n",
    "    \n",
    "- If the connection is a bit confusing, we can think of it this way:\n",
    "    - We're holding six ice cream cones (that are indistinguishable from each other)\n",
    "    - We're facing 11 tubs of ice cream (of different flavors)\n",
    "    - For each cone, we place it on top of the tub for the flavor we want\n",
    "        - This is similar to placing the letters into the mailboxes\n",
    "    - So we want to know the number of different ways the cones can be placed"
   ]
  },
  {
   "cell_type": "markdown",
   "metadata": {},
   "source": [
    "- So, using the logic from the linked solution, we'd have 10 \"walls\" between the tubs and 6 cones (i.e. \"letters\")\n",
    "    - This means that each possibility is some permutation of ['W','W','W','W','W','W','W','W','W','W','C','C','C','C','C','C']\n",
    "        - If all the walls and cones were distinct (i.e. distinguishable), then since there are 16 elements of the list, there would be 16! permutations\n",
    "            - But recall that if we have $n$ indistinguishable items in a list, we need to divide the number of permutations by $n!$"
   ]
  },
  {
   "cell_type": "markdown",
   "metadata": {},
   "source": [
    "- Since the 'W's and 'C's are indistinguishable from eachother, we can count the ways as:\n",
    "\n",
    "$$\n",
    "\\frac{16!}{10!6!} = \\binom{16}{10} = 8008\n",
    "$$"
   ]
  },
  {
   "cell_type": "markdown",
   "metadata": {},
   "source": [
    "- Therefore the customer can choose 6 ice cream cones from 11 flavors in 8008 ways"
   ]
  },
  {
   "cell_type": "markdown",
   "metadata": {},
   "source": [
    "_____\n",
    "\n",
    "- Let's loop through all the different ways to tie out to this result"
   ]
  },
  {
   "cell_type": "code",
   "execution_count": 24,
   "metadata": {},
   "outputs": [],
   "source": [
    "import numpy as np"
   ]
  },
  {
   "cell_type": "code",
   "execution_count": 57,
   "metadata": {},
   "outputs": [],
   "source": [
    "array_flavors = (np.arange(11),)*6\n",
    "meshgrid = np.meshgrid(*array_flavors)\n",
    "array_cones = np.transpose(np.array([x.ravel() for x in meshgrid]))"
   ]
  },
  {
   "cell_type": "code",
   "execution_count": 60,
   "metadata": {},
   "outputs": [],
   "source": [
    "array_distinct_cones = np.unique(np.sort(array_cones, axis=1), axis=0)"
   ]
  },
  {
   "cell_type": "code",
   "execution_count": 62,
   "metadata": {},
   "outputs": [
    {
     "data": {
      "text/plain": [
       "8008"
      ]
     },
     "execution_count": 62,
     "metadata": {},
     "output_type": "execute_result"
    }
   ],
   "source": [
    "len(array_distinct_cones)"
   ]
  },
  {
   "cell_type": "markdown",
   "metadata": {},
   "source": [
    "- Eyyyyy"
   ]
  }
 ],
 "metadata": {
  "kernelspec": {
   "display_name": "Python 3",
   "language": "python",
   "name": "python3"
  },
  "language_info": {
   "codemirror_mode": {
    "name": "ipython",
    "version": 3
   },
   "file_extension": ".py",
   "mimetype": "text/x-python",
   "name": "python",
   "nbconvert_exporter": "python",
   "pygments_lexer": "ipython3",
   "version": "3.7.2"
  }
 },
 "nbformat": 4,
 "nbformat_minor": 2
}
