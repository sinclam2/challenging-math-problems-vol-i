{
 "cells": [
  {
   "cell_type": "markdown",
   "metadata": {},
   "source": [
    "**a. Among the integers from 1 to 10,000,000,000 which are there more of: those in which the digit 1 occurs or those in which it does not occur?**\n",
    "\n",
    "**b. If the integers from 1 to 222,222,222 are written down in succession, how many 0's are written?**"
   ]
  },
  {
   "cell_type": "markdown",
   "metadata": {},
   "source": [
    "______\n",
    "\n",
    "### a. \n",
    "\n",
    "- We realize that every number between 0 and 9,999,999,999 can be written as a list of 10 digits\n",
    "    - Since there are 10 possible digits (0, 1, 2, 3, 4, 5, 6, 7, 8, 9), there are $10^{10} = 10,000,000,000$\n",
    "        - Since we're counting from 1 to 10,000,000,000, we need to remove 0 from the list (which has no 1) and add on 10,000,000,000 (which has a 1)\n",
    "        \n",
    "- But if a number doesn't include the digit 1, then we only have 9 possible digits\n",
    "    - So, the number of possible numbers in our range that don't include the digit 1 is equal to $9^{10}-1 = 3,486,784,400$"
   ]
  },
  {
   "cell_type": "markdown",
   "metadata": {},
   "source": [
    "- So if we take the difference between these two values, we get the number of possibilities that include the digit 1\n",
    "    - $10^{10} - 9^{10} + 1 = 6,513,215,600 > 9^{10} - 1$"
   ]
  },
  {
   "cell_type": "markdown",
   "metadata": {},
   "source": [
    "- Therefore, there are **more integers with the digit 1 than without**"
   ]
  },
  {
   "cell_type": "markdown",
   "metadata": {},
   "source": [
    "___\n",
    "\n",
    "*Aside*\n",
    "\n",
    "- Let's test our calculation, but on a smaller (easier to compute) set\n",
    "    - If our max value was 10,000, then the number of integers with a 1 should be equal to $10^{4} - 9^{4} + 1 = 3440$"
   ]
  },
  {
   "cell_type": "code",
   "execution_count": 1,
   "metadata": {},
   "outputs": [],
   "source": [
    "list_integers = [str(x) for x in range(1, 10001)]"
   ]
  },
  {
   "cell_type": "code",
   "execution_count": 2,
   "metadata": {},
   "outputs": [],
   "source": [
    "list_includes_1 = [x for x in list_integers if '1' in list(x)]"
   ]
  },
  {
   "cell_type": "code",
   "execution_count": 3,
   "metadata": {},
   "outputs": [
    {
     "data": {
      "text/plain": [
       "3440"
      ]
     },
     "execution_count": 3,
     "metadata": {},
     "output_type": "execute_result"
    }
   ],
   "source": [
    "len(list_includes_1)"
   ]
  },
  {
   "cell_type": "markdown",
   "metadata": {},
   "source": [
    "- Eyyy"
   ]
  },
  {
   "cell_type": "markdown",
   "metadata": {},
   "source": [
    "____\n",
    "\n",
    "### b. \n",
    "\n",
    "- This question is tricky since we don't write down the leading zeros"
   ]
  },
  {
   "cell_type": "markdown",
   "metadata": {},
   "source": [
    "- First, we consider the **single digit numbers** in our range\n",
    "    - These are simply the integers 1, 2, ..., 9\n",
    "        - None of which contain the digit zero"
   ]
  },
  {
   "cell_type": "markdown",
   "metadata": {},
   "source": [
    "- Next, we move onto the **two digit numbers**\n",
    "    - Since, as we mentioned before, we cannot lead with a zero, there are 9 possible leading digits\n",
    "        - Then, the only possible integers to contain a zero will have it for the second digit\n",
    "            - This can happen in 9 ways, each containing 1 zero\n",
    "- Therefore, while writing down the two digit numbers, we'll write 9 zeros"
   ]
  },
  {
   "cell_type": "markdown",
   "metadata": {},
   "source": [
    "- Moving onto **three digit numbers**\n",
    "    - The leading digit can be one of 9 possible digits\n",
    "    - Now, we consider two cases:\n",
    "        - The three digit number contains 2 zeros\n",
    "            - This can happen in 9 ways:\n",
    "                - 100, 200, 300, 400, 500, 600, 700, 800, and 900\n",
    "        - The three digit number contains 1 zero\n",
    "            - This means that either we have the middle digit as a zero, or the last digit is a zero\n",
    "                - If the middle digit is a zero, there are $9\\cdot1\\cdot9 = 81$ possibilities\n",
    "                - If the last digit is a zero, there are $9\\cdot9\\cdot1 = 81$ possibilities\n",
    "- Adding it up, we'll write $2\\cdot9 + 1\\cdot(81+81) = 180$ zeros while writing out the three digit numbers\n",
    "    - *Let's loop through them to tie out to this value*"
   ]
  },
  {
   "cell_type": "code",
   "execution_count": 4,
   "metadata": {},
   "outputs": [
    {
     "data": {
      "text/plain": [
       "180"
      ]
     },
     "execution_count": 4,
     "metadata": {},
     "output_type": "execute_result"
    }
   ],
   "source": [
    "list_integers = []\n",
    "\n",
    "for i in range(100, 1000):\n",
    "    list_integers += list(str(i))\n",
    "list_integers.count('0')"
   ]
  },
  {
   "cell_type": "markdown",
   "metadata": {},
   "source": [
    "- *Eyyy*"
   ]
  },
  {
   "cell_type": "markdown",
   "metadata": {},
   "source": [
    "- Now, onto the **four digit numbers**\n",
    "    - 9 possile leading digits\n",
    "        - **One zero**\n",
    "            - $(1)\\cdot\\left(9\\cdot1\\cdot9\\cdot9 + 9\\cdot9\\cdot1\\cdot9+9\\cdot9\\cdot9\\cdot1\\right) = 2187$\n",
    "        - **Two zeros**\n",
    "            - $(2)\\cdot\\left(9\\cdot1\\cdot1\\cdot9 + 9\\cdot1\\cdot9\\cdot1+9\\cdot9\\cdot1\\cdot1\\right) = 486$\n",
    "        - **Three zeros**\n",
    "            - $(3)\\cdot\\left (9\\cdot1\\cdot1\\cdot1 \\right ) = 27$\n",
    "            \n",
    "- Adding it up, we'll write $2187+486+27 = 2700$ zeros while writing out the four digit numbers\n",
    "    - Again, let's just check to see that we're doing this right"
   ]
  },
  {
   "cell_type": "code",
   "execution_count": 5,
   "metadata": {},
   "outputs": [
    {
     "data": {
      "text/plain": [
       "2700"
      ]
     },
     "execution_count": 5,
     "metadata": {},
     "output_type": "execute_result"
    }
   ],
   "source": [
    "list_integers = []\n",
    "\n",
    "for i in range(1000, 10000):\n",
    "    list_integers += list(str(i))\n",
    "list_integers.count('0')"
   ]
  },
  {
   "cell_type": "markdown",
   "metadata": {},
   "source": [
    "- *Eyyyyyyyyy*"
   ]
  },
  {
   "cell_type": "markdown",
   "metadata": {},
   "source": [
    "- As we're beginning to see, there's a formula to calculate these numbers\n",
    "\n",
    "- Let's try it out on the **five digit numbers**\n",
    "    - **One zero**\n",
    "        - $1\\cdot\\binom{4}{1}\\cdot9^{4} = 26244$\n",
    "    - **Two zeros**\n",
    "        - $2\\cdot\\binom{4}{2}\\cdot9^{3} = 8748$\n",
    "    - **Three zeros**\n",
    "        - $3\\cdot\\binom{4}{3}\\cdot9^{2} = 972$\n",
    "    - **Four zeroe**\n",
    "        - $4\\cdot\\binom{4}{4}\\cdot9 = 36$\n",
    "        \n",
    "- Adding it up, we'll write $26244+8748+972+36 = 36000$ zeros while writing out the five digit numbers\n",
    "    - One last time, we'll tie out"
   ]
  },
  {
   "cell_type": "code",
   "execution_count": 6,
   "metadata": {},
   "outputs": [
    {
     "data": {
      "text/plain": [
       "36000"
      ]
     },
     "execution_count": 6,
     "metadata": {},
     "output_type": "execute_result"
    }
   ],
   "source": [
    "list_integers = []\n",
    "\n",
    "for i in range(10000, 100000):\n",
    "    list_integers += list(str(i))\n",
    "list_integers.count('0')"
   ]
  },
  {
   "cell_type": "markdown",
   "metadata": {},
   "source": [
    "- *Eyyyyyyyyyyyyyyyyyyyyyyyyyyyyyyy*"
   ]
  },
  {
   "cell_type": "markdown",
   "metadata": {},
   "source": [
    "- **Six digit numbers**:\n",
    "    - $1\\cdot\\binom{5}{1}\\cdot9^{5} + 2\\cdot\\binom{5}{2}\\cdot9^{4} + 3\\cdot\\binom{5}{3}\\cdot9^{3} + 4\\cdot\\binom{5}{4}\\cdot9^{2} + 5\\cdot\\binom{5}{5}\\cdot9^{1} = 295245 + 131220 + 21870 + 1620 + 45 = 450000$"
   ]
  },
  {
   "cell_type": "markdown",
   "metadata": {},
   "source": [
    "- **Seven digit numbers**\n",
    "    - $1\\cdot\\binom{6}{1}\\cdot9^{6} + 2\\cdot\\binom{6}{2}\\cdot9^{5} + 3\\cdot\\binom{6}{3}\\cdot9^{4} + 4\\cdot\\binom{6}{4}\\cdot9^{3} + 5\\cdot\\binom{6}{5}\\cdot9^{2}+ 6\\cdot\\binom{6}{6}\\cdot9^{1}$"
   ]
  },
  {
   "cell_type": "markdown",
   "metadata": {},
   "source": [
    "- I don't feel like calculating this by hand so I'll write a function"
   ]
  },
  {
   "cell_type": "code",
   "execution_count": 7,
   "metadata": {},
   "outputs": [],
   "source": [
    "import operator as op\n",
    "from functools import reduce"
   ]
  },
  {
   "cell_type": "code",
   "execution_count": 8,
   "metadata": {},
   "outputs": [],
   "source": [
    "def ncr(n, r):\n",
    "    r = min(r, n-r)\n",
    "    numer = reduce(op.mul, range(n, n-r, -1), 1)\n",
    "    denom = reduce(op.mul, range(1, r+1), 1)\n",
    "    return numer / denom"
   ]
  },
  {
   "cell_type": "code",
   "execution_count": 9,
   "metadata": {},
   "outputs": [],
   "source": [
    "def calc(n_digits):\n",
    "    total = 0\n",
    "    for i in range(1, n_digits):\n",
    "        val = i*ncr(n_digits-1, i)*9**(n_digits-i)\n",
    "        total += val\n",
    "    return int(total)"
   ]
  },
  {
   "cell_type": "markdown",
   "metadata": {},
   "source": [
    "- Checking that it works"
   ]
  },
  {
   "cell_type": "code",
   "execution_count": 10,
   "metadata": {},
   "outputs": [
    {
     "data": {
      "text/plain": [
       "(36000, 450000)"
      ]
     },
     "execution_count": 10,
     "metadata": {},
     "output_type": "execute_result"
    }
   ],
   "source": [
    "calc(5), calc(6)"
   ]
  },
  {
   "cell_type": "markdown",
   "metadata": {},
   "source": [
    "- Calculating the new function for 7 digits"
   ]
  },
  {
   "cell_type": "code",
   "execution_count": 11,
   "metadata": {},
   "outputs": [
    {
     "data": {
      "text/plain": [
       "5400000"
      ]
     },
     "execution_count": 11,
     "metadata": {},
     "output_type": "execute_result"
    }
   ],
   "source": [
    "calc(7)"
   ]
  },
  {
   "cell_type": "markdown",
   "metadata": {},
   "source": [
    "- So, for 7 digits integers, we'll write zero 5,400,000 times"
   ]
  },
  {
   "cell_type": "markdown",
   "metadata": {},
   "source": [
    "- We have to be careful\n",
    "    - We're counting up to 222,222,222\n",
    "        - Since this is a 9 digit number, we calculate the zeros up to and including 8 digit numbers, then we have to switch strategies"
   ]
  },
  {
   "cell_type": "code",
   "execution_count": 12,
   "metadata": {},
   "outputs": [
    {
     "data": {
      "text/plain": [
       "63000000"
      ]
     },
     "execution_count": 12,
     "metadata": {},
     "output_type": "execute_result"
    }
   ],
   "source": [
    "calc(8)"
   ]
  },
  {
   "cell_type": "markdown",
   "metadata": {},
   "source": [
    "- So, in the 8 digit numbers, we write the number zero 63 million times\n",
    "    - Let's use the function to calculate all the zeros we write from 1 to 99,999,999"
   ]
  },
  {
   "cell_type": "code",
   "execution_count": 13,
   "metadata": {},
   "outputs": [
    {
     "name": "stdout",
     "output_type": "stream",
     "text": [
      "1 0\n",
      "2 9\n",
      "3 180\n",
      "4 2700\n",
      "5 36000\n",
      "6 450000\n",
      "7 5400000\n",
      "8 63000000\n"
     ]
    }
   ],
   "source": [
    "total = 0\n",
    "for n_digits in [1,2,3,4,5,6,7,8]:\n",
    "    val = calc(n_digits)\n",
    "    print(n_digits, val)\n",
    "    total += val"
   ]
  },
  {
   "cell_type": "code",
   "execution_count": 14,
   "metadata": {},
   "outputs": [
    {
     "data": {
      "text/plain": [
       "68888889"
      ]
     },
     "execution_count": 14,
     "metadata": {},
     "output_type": "execute_result"
    }
   ],
   "source": [
    "total"
   ]
  },
  {
   "cell_type": "markdown",
   "metadata": {},
   "source": [
    "- **So, between 1 and 99,999,999, we write the number zero 68,888,889 times**"
   ]
  },
  {
   "cell_type": "markdown",
   "metadata": {},
   "source": [
    "- Now, we consider the numbers between (inclusively) 100,000,000 and 222,222,222\n",
    "    - Let's start with the numbers between 100,000,000 and 199,999,999"
   ]
  },
  {
   "cell_type": "markdown",
   "metadata": {},
   "source": [
    "- Each of these numbers can be written as a list of digits of the form:\n",
    "\n",
    "$$\n",
    "[1, d_{1}, d_{2}, d_{3}, d_{4}, d_{5}, d_{6}, d_{7}, d_{8}]\n",
    "$$"
   ]
  },
  {
   "cell_type": "markdown",
   "metadata": {},
   "source": [
    "- We note that, unlike previously, the first digit **can** be a zero since we have a leading one\n",
    "    - Each of the non-zero digits can be one of 9 possible values"
   ]
  },
  {
   "cell_type": "markdown",
   "metadata": {},
   "source": [
    "**One zero**\n",
    "\n",
    "- $1\\cdot\\binom{8}{1}\\cdot9^{7} = 38,263,752$\n",
    "\n",
    "**Two zeros**\n",
    "\n",
    "- $2\\cdot\\binom{8}{2}\\cdot9^{6} = 29,760,696$\n",
    "\n",
    "**Three zeros**\n",
    "\n",
    "- $3\\cdot\\binom{8}{3}\\cdot9^{5} = 9,920,232$\n",
    "\n",
    "**Four zeros**\n",
    "\n",
    "- $4\\cdot\\binom{8}{4}\\cdot9^{4} = 1,837,080$\n",
    "\n",
    "**Five zeros**\n",
    "\n",
    "- $5\\cdot\\binom{8}{5}\\cdot9^{3} = 204,120$\n",
    "\n",
    "**Six zeros**\n",
    "\n",
    "- $6\\cdot\\binom{8}{6}\\cdot9^{2} = 13,608$\n",
    "\n",
    "**Seven zeros**\n",
    "\n",
    "- $7\\cdot\\binom{8}{7}\\cdot9^{1} = 504$\n",
    "\n",
    "**Eight zeros**\n",
    "\n",
    "- $8\\cdot\\binom{8}{8}\\cdot9^{0} = 8$"
   ]
  },
  {
   "cell_type": "markdown",
   "metadata": {},
   "source": [
    "- Summing these up, we get:\n",
    "\n",
    "$$\n",
    "\\text{N zeros written between 100,000 and 199,999,999} = 38,263,752 + 29,760,696 + 9,920,232 + 1,837,080 + 204,120 + 13,608 + 504 + 8\n",
    "$$"
   ]
  },
  {
   "cell_type": "markdown",
   "metadata": {},
   "source": [
    "$$\n",
    "= 80,000,000\n",
    "$$"
   ]
  },
  {
   "cell_type": "markdown",
   "metadata": {},
   "source": [
    "- So we write an additional 80 million zeros"
   ]
  },
  {
   "cell_type": "markdown",
   "metadata": {},
   "source": [
    "- Now, we're at 200,000,000\n",
    "    - The first digit is always a two\n",
    "    - The second digit can either be a zero, one or two\n",
    "        - All other digits are conditional on the second\n",
    "            - We'll fix the digits, and count the zeros"
   ]
  },
  {
   "cell_type": "markdown",
   "metadata": {},
   "source": [
    "**Numbers of the form $[2,0,d_{1}, d_{2}, d_{3}, d_{4}, d_{5}, d_{6},d_{7}]$**\n",
    "\n",
    "- All the other digits can be anything\n",
    "    - We count the zeros as:\n",
    "    \n",
    "$$\n",
    "1\\binom{7}{0}9^{7} + 2\\binom{7}{1}9^{6} + 3\\binom{7}{2}9^{5}+ 4\\binom{7}{3}9^{4}+ 5\\binom{7}{4}9^{3}+ 6\\binom{7}{5}9^{2}+ 7\\binom{7}{6}9^{1}+8\\binom{7}{7}9^{0}\n",
    "$$"
   ]
  },
  {
   "cell_type": "markdown",
   "metadata": {},
   "source": [
    "$$\n",
    "= 4,782,969+7,440,174+3,720,087+918,540+127,575+10,206+441+8 = 17,000,000\n",
    "$$"
   ]
  },
  {
   "cell_type": "markdown",
   "metadata": {},
   "source": [
    "**Numbers of the form $[2,1,d_{1}, d_{2}, d_{3}, d_{4}, d_{5}, d_{6}, d_{7}]$**\n",
    "\n",
    "- We adjust the formula above to count the zeros by:\n",
    "\n",
    "$$\n",
    "1\\binom{7}{1}9^{6} + 2\\binom{7}{2}9^{5}+ 3\\binom{7}{3}9^{4}+ 4\\binom{7}{4}9^{3}+ 5\\binom{7}{5}9^{2}+ 6\\binom{7}{6}9^{1}+7\\binom{7}{7}9^{0}\n",
    "$$"
   ]
  },
  {
   "cell_type": "markdown",
   "metadata": {},
   "source": [
    "$$\n",
    "= 3,720,087+2,480,058+688,905+102,060+8,505+378+7 = 7,000,000\n",
    "$$"
   ]
  },
  {
   "cell_type": "markdown",
   "metadata": {},
   "source": [
    "**Numbers of the form $[2,2,d_{1}, d_{2}, d_{3}, d_{4}, d_{5}, d_{6}, d_{7}]$**\n",
    "\n",
    "- If we're hasty, we might think this calculation is the same as the one above and we'll write 7m zeros again\n",
    "    - But keep in mind: $d_{1}$ only has three possible values: zero, one, or two\n",
    "        - So, even though it's a bitch, we need to be very careful in our counting"
   ]
  },
  {
   "cell_type": "markdown",
   "metadata": {},
   "source": [
    "**Numbers of the form $[2,2,0, d_{1}, d_{2}, d_{3}, d_{4}, d_{5}, d_{6}]$**\n",
    "\n",
    "$$\n",
    "1\\binom{6}{0}9^{6} + 2\\binom{6}{1}9^{5} + 3\\binom{6}{2}9^{4} + 4\\binom{6}{3}9^{3} + 5\\binom{6}{4}9^{2} + 6\\binom{6}{5}9^{1} + 7\\binom{6}{6}9^{0}\n",
    "$$"
   ]
  },
  {
   "cell_type": "markdown",
   "metadata": {},
   "source": [
    "$$\n",
    "= 531,441+708,588+295,245+58,320+6,075+324+7 = 1,600,000\n",
    "$$"
   ]
  },
  {
   "cell_type": "markdown",
   "metadata": {},
   "source": [
    "**Numbers of the form $[2,2,1, d_{1}, d_{2}, d_{3}, d_{4}, d_{5}, d_{6}]$**\n",
    "\n",
    "$$\n",
    "1\\binom{6}{1}9^{5} + 2\\binom{6}{2}9^{4} + 3\\binom{6}{3}9^{3} + 4\\binom{6}{4}9^{2} + 5\\binom{6}{5}9^{1} + 6\\binom{6}{6}9^{0}\n",
    "$$"
   ]
  },
  {
   "cell_type": "markdown",
   "metadata": {},
   "source": [
    "$$\n",
    "354,294+196,830+43,740+4,860+270+6 = 600,000\n",
    "$$"
   ]
  },
  {
   "cell_type": "markdown",
   "metadata": {},
   "source": [
    "**Numbers of the form $[2,2,2, d_{1}, d_{2}, d_{3}, d_{4}, d_{5}, d_{6}]$**\n",
    "\n",
    "- This is where we need to be careful again\n",
    "    - $d_{1}$ can only be zero, one, or two"
   ]
  },
  {
   "cell_type": "markdown",
   "metadata": {},
   "source": [
    "**Numbers of the form $[2,2,2, 0, d_{1}, d_{2}, d_{3}, d_{4}, d_{5}]$**\n",
    "\n",
    "$$\n",
    "1\\binom{5}{0}9^{5}+2\\binom{5}{1}9^{4}+3\\binom{5}{2}9^{3}+4\\binom{5}{3}9^{2}+5\\binom{5}{4}9^{1}+6\\binom{5}{5}9^{0} = 150,000\n",
    "$$"
   ]
  },
  {
   "cell_type": "markdown",
   "metadata": {},
   "source": [
    "**Numbers of the form $[2,2,2, 1, d_{1}, d_{2}, d_{3}, d_{4}, d_{5}]$**\n",
    "\n",
    "$$\n",
    "1\\binom{5}{1}9^{4}+2\\binom{5}{2}9^{3}+3\\binom{5}{3}9^{2}+4\\binom{5}{4}9^{1}+5\\binom{5}{5}9^{0} = 50,000\n",
    "$$"
   ]
  },
  {
   "cell_type": "markdown",
   "metadata": {},
   "source": [
    "- We'll just keep chugging along"
   ]
  },
  {
   "cell_type": "markdown",
   "metadata": {},
   "source": [
    "**Numbers of the form $[2,2,2, 2, 0,d_{1}, d_{2}, d_{3}, d_{4}]$**\n",
    "\n",
    "$$\n",
    "1\\binom{4}{0}9^{4}+2\\binom{4}{1}9^{3}+3\\binom{4}{2}9^{2}+4\\binom{4}{3}9^{1}+5\\binom{4}{4}9^{0} = 14,000\n",
    "$$"
   ]
  },
  {
   "cell_type": "markdown",
   "metadata": {},
   "source": [
    "**Numbers of the form $[2,2,2, 2, 1,d_{1}, d_{2}, d_{3}, d_{4}]$**\n",
    "\n",
    "$$\n",
    "1\\binom{4}{1}9^{3}+2\\binom{4}{2}9^{2}+3\\binom{4}{3}9^{1}+4\\binom{4}{4}9^{0} = 4,000\n",
    "$$"
   ]
  },
  {
   "cell_type": "markdown",
   "metadata": {},
   "source": [
    "**Numbers of the form $[2,2,2, 2, 2,0,d_{1}, d_{2}, d_{3}]$**\n",
    "\n",
    "$$\n",
    "1\\binom{3}{0}9^{3}+2\\binom{3}{1}9^{2}+3\\binom{3}{2}9^{1}+4\\binom{3}{3}9^{0}=1,300\n",
    "$$"
   ]
  },
  {
   "cell_type": "markdown",
   "metadata": {},
   "source": [
    "**Numbers of the form $[2,2,2, 2, 2,1,d_{1}, d_{2}, d_{3}]$**\n",
    "\n",
    "$$\n",
    "1\\binom{3}{1}9^{2}+2\\binom{3}{2}9^{1}+3\\binom{3}{3}9^{0}=300\n",
    "$$"
   ]
  },
  {
   "cell_type": "markdown",
   "metadata": {},
   "source": [
    "**Numbers of the form $[2,2,2, 2, 2,2,0,d_{1}, d_{2}]$**\n",
    "\n",
    "$$\n",
    "1\\binom{2}{0}9^{2}+2\\binom{2}{1}9^{1}+3\\binom{2}{2}9^{0}=120\n",
    "$$"
   ]
  },
  {
   "cell_type": "markdown",
   "metadata": {},
   "source": [
    "**Numbers of the form $[2,2,2, 2, 2,2,1,d_{1}, d_{2}]$**\n",
    "\n",
    "$$\n",
    "1\\binom{2}{1}9^{1}+2\\binom{2}{2}9^{0}=20\n",
    "$$"
   ]
  },
  {
   "cell_type": "markdown",
   "metadata": {},
   "source": [
    "**Numbers of the form $[2,2,2, 2, 2,2,2,0,d_{1}]$**\n",
    "\n",
    "$$\n",
    "1\\binom{1}{0}9^{1}+2\\binom{1}{1}9^{0}=11\n",
    "$$"
   ]
  },
  {
   "cell_type": "markdown",
   "metadata": {},
   "source": [
    "**Numbers of the form $[2,2,2, 2, 2,2,2,1,d_{1}]$**\n",
    "\n",
    "$$\n",
    "1\\binom{1}{1}9^{0}=1\n",
    "$$"
   ]
  },
  {
   "cell_type": "markdown",
   "metadata": {},
   "source": [
    "- So now, we sum up all our recent values"
   ]
  },
  {
   "cell_type": "markdown",
   "metadata": {},
   "source": [
    "$$\n",
    "17,000,000 + 7,000,000 + 1,600,000 + 600,000 + 150,000 + 50,000 + 14,000 + 4,000 + 1,300 + 300 + 120 + 20 + 1 = 26,419,741\n",
    "$$"
   ]
  },
  {
   "cell_type": "markdown",
   "metadata": {},
   "source": [
    "- And putting it all together:\n",
    "\n",
    "$$\n",
    "\\text{Total Number of Zeros} = 68,888,889 + 80,000,000 + 26,419,741 = 175,308,630\n",
    "$$"
   ]
  },
  {
   "cell_type": "markdown",
   "metadata": {},
   "source": [
    "- **Note I**: this answer is slightly off\n",
    "    - The real value is 175,308,642\n",
    "        - After such a long ass solution, I don't feel like figuring out where the error is rn\n",
    "        \n",
    "- **Note II**: there's also a way simpler way to solve this problem\n",
    "    - I had already written so much of my solution, I figured I'd finish it off"
   ]
  }
 ],
 "metadata": {
  "kernelspec": {
   "display_name": "Python 3",
   "language": "python",
   "name": "python3"
  },
  "language_info": {
   "codemirror_mode": {
    "name": "ipython",
    "version": 3
   },
   "file_extension": ".py",
   "mimetype": "text/x-python",
   "name": "python",
   "nbconvert_exporter": "python",
   "pygments_lexer": "ipython3",
   "version": "3.7.2"
  }
 },
 "nbformat": 4,
 "nbformat_minor": 2
}
