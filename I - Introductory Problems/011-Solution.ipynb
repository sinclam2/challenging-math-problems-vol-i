{
 "cells": [
  {
   "cell_type": "markdown",
   "metadata": {},
   "source": [
    "**a. Among the integers from 1 to 10,000,000,000 which are there more of: those in which the digit 1 occurs or those in which it does not occur?**\n",
    "\n",
    "**b. If the integers from 1 to 222,222,222 are written down in succession, how many 0's are written?**"
   ]
  },
  {
   "cell_type": "markdown",
   "metadata": {},
   "source": [
    "______\n",
    "\n",
    "### a. \n",
    "\n",
    "- We realize that every number between 0 and 9,999,999,999 can be written as a list of 10 digits\n",
    "    - Since there are 10 possible digits (0, 1, 2, 3, 4, 5, 6, 7, 8, 9), there are $10^{10} = 10,000,000,000$\n",
    "        - Since we're counting from 1 to 10,000,000,000, we need to remove 0 from the list (which has no 1) and add on 10,000,000,000 (which has a 1)\n",
    "        \n",
    "- But if a number doesn't include the digit 1, then we only have 9 possible digits\n",
    "    - So, the number of possible numbers in our range that don't include the digit 1 is equal to $9^{10}-1 = 3,486,784,400$"
   ]
  },
  {
   "cell_type": "markdown",
   "metadata": {},
   "source": [
    "- So if we take the difference between these two values, we get the number of possibilities that include the digit 1\n",
    "    - $10^{10} - 9^{10} + 1 = 6,513,215,600 > 9^{10} - 1$"
   ]
  },
  {
   "cell_type": "markdown",
   "metadata": {},
   "source": [
    "- Therefore, there are **more integers with the digit 1 than without**"
   ]
  },
  {
   "cell_type": "markdown",
   "metadata": {},
   "source": [
    "___\n",
    "\n",
    "*Aside*\n",
    "\n",
    "- Let's test our calculation, but on a smaller (easier to compute) set\n",
    "    - If our max value was 10,000, then the number of integers with a 1 should be equal to $10^{4} - 9^{4} + 1 = 3440$"
   ]
  },
  {
   "cell_type": "code",
   "execution_count": 2,
   "metadata": {},
   "outputs": [],
   "source": [
    "list_integers = [str(x) for x in range(1, 10001)]"
   ]
  },
  {
   "cell_type": "code",
   "execution_count": 3,
   "metadata": {},
   "outputs": [],
   "source": [
    "list_includes_1 = [x for x in list_integers if '1' in list(x)]"
   ]
  },
  {
   "cell_type": "code",
   "execution_count": 4,
   "metadata": {},
   "outputs": [
    {
     "data": {
      "text/plain": [
       "3440"
      ]
     },
     "execution_count": 4,
     "metadata": {},
     "output_type": "execute_result"
    }
   ],
   "source": [
    "len(list_includes_1)"
   ]
  },
  {
   "cell_type": "markdown",
   "metadata": {},
   "source": [
    "- Eyyy"
   ]
  },
  {
   "cell_type": "markdown",
   "metadata": {},
   "source": [
    "____\n",
    "\n",
    "### b. \n",
    "\n",
    "- This question is tricky since we don't write down the leading zeroes"
   ]
  },
  {
   "cell_type": "markdown",
   "metadata": {},
   "source": [
    "- First, we consider the **single digit numbers** in our range\n",
    "    - These are simply the integers 1, 2, ..., 9\n",
    "        - None of which contain the digit zero"
   ]
  },
  {
   "cell_type": "markdown",
   "metadata": {},
   "source": [
    "- Next, we move onto the **two digit numbers**\n",
    "    - Since, as we mentioned before, we cannot lead with a zero, there are 9 possible leading digits\n",
    "        - Then, the only possible integers to contain a zero will have it for the second digit\n",
    "            - This can happen in 9 ways, each containing 1 zero\n",
    "- Therefore, while writing down the two digit numbers, we'll write 9 zeroes"
   ]
  },
  {
   "cell_type": "markdown",
   "metadata": {},
   "source": [
    "- Moving onto **three digit numbers**\n",
    "    - The leading digit can be one of 9 possible digits\n",
    "    - Now, we consider two cases:\n",
    "        - The three digit number contains 2 zeroes\n",
    "            - This can happen in 9 ways:\n",
    "                - 100, 200, 300, 400, 500, 600, 700, 800, and 900\n",
    "        - The three digit number contains 1 zero\n",
    "            - This means that either we have the middle digit as a zero, or the last digit is a zero\n",
    "                - If the middle digit is a zero, there are $9\\cdot1\\cdot9 = 81$ possibilities\n",
    "                - If the last digit is a zero, there are $9\\cdot9\\cdot1 = 81$ possibilities\n",
    "- Adding it up, we'll write $2\\cdot9 + 1\\cdot(81+81) = 180$ zeroes while writing out the three digit numbers\n",
    "    - *Let's loop through them to tie out to this value*"
   ]
  },
  {
   "cell_type": "code",
   "execution_count": 26,
   "metadata": {},
   "outputs": [
    {
     "data": {
      "text/plain": [
       "180"
      ]
     },
     "execution_count": 26,
     "metadata": {},
     "output_type": "execute_result"
    }
   ],
   "source": [
    "list_integers = []\n",
    "\n",
    "for i in range(100, 1000):\n",
    "    list_integers += list(str(i))\n",
    "list_integers.count('0')"
   ]
  },
  {
   "cell_type": "markdown",
   "metadata": {},
   "source": [
    "- *Eyyy*"
   ]
  },
  {
   "cell_type": "markdown",
   "metadata": {},
   "source": [
    "- Now, onto the **four digit numbers**\n",
    "    - 9 possile leading digits\n",
    "        - **One zero**\n",
    "            - $(1)\\cdot\\left(9\\cdot1\\cdot9\\cdot9 + 9\\cdot9\\cdot1\\cdot9+9\\cdot9\\cdot9\\cdot1\\right) = 2187$\n",
    "        - **Two zeroes**\n",
    "            - $(2)\\cdot\\left(9\\cdot1\\cdot1\\cdot9 + 9\\cdot1\\cdot9\\cdot1+9\\cdot9\\cdot1\\cdot1\\right) = 486$\n",
    "        - **Three zeroes**\n",
    "            - $(3)\\cdot\\left (9\\cdot1\\cdot1\\cdot1 \\right ) = 27$\n",
    "            \n",
    "- Adding it up, we'll write $2187+486+27 = 2700$ zeroes while writing out the four digit numbers\n",
    "    - Again, let's just check to see that we're doing this right"
   ]
  },
  {
   "cell_type": "code",
   "execution_count": 31,
   "metadata": {},
   "outputs": [
    {
     "data": {
      "text/plain": [
       "2700"
      ]
     },
     "execution_count": 31,
     "metadata": {},
     "output_type": "execute_result"
    }
   ],
   "source": [
    "list_integers = []\n",
    "\n",
    "for i in range(1000, 10000):\n",
    "    list_integers += list(str(i))\n",
    "list_integers.count('0')"
   ]
  },
  {
   "cell_type": "markdown",
   "metadata": {},
   "source": [
    "- *Eyyyyyyyyy*"
   ]
  },
  {
   "cell_type": "markdown",
   "metadata": {},
   "source": [
    "- As we're beginning to see, there's a formula to calculate these numbers\n",
    "\n",
    "- Let's try it out on the **five digit numbers**\n",
    "    - **One zero**\n",
    "        - $1\\cdot\\binom{4}{1}\\cdot9^{4} = 26244$\n",
    "    - **Two zeroes**\n",
    "        - $2\\cdot\\binom{4}{2}\\cdot9^{3} = 8748$\n",
    "    - **Three zeroes**\n",
    "        - $3\\cdot\\binom{4}{3}\\cdot9^{2} = 972$\n",
    "    - **Four zeroes**\n",
    "        - $4\\cdot\\binom{4}{4}\\cdot9 = 36$\n",
    "        \n",
    "- Adding it up, we'll write $26244+8748+972+36 = 36000$ zeroes while writing out the five digit numbers\n",
    "    - One last time, we'll tie out"
   ]
  },
  {
   "cell_type": "code",
   "execution_count": 36,
   "metadata": {},
   "outputs": [
    {
     "data": {
      "text/plain": [
       "36000"
      ]
     },
     "execution_count": 36,
     "metadata": {},
     "output_type": "execute_result"
    }
   ],
   "source": [
    "list_integers = []\n",
    "\n",
    "for i in range(10000, 100000):\n",
    "    list_integers += list(str(i))\n",
    "list_integers.count('0')"
   ]
  },
  {
   "cell_type": "markdown",
   "metadata": {},
   "source": [
    "- *Eyyyyyyyyyyyyyyyyyyyyyyyyyyyyyyy*"
   ]
  },
  {
   "cell_type": "markdown",
   "metadata": {},
   "source": [
    "- **Six digit numbers**:\n",
    "    - $1\\cdot\\binom{5}{1}\\cdot9^{5} + 2\\cdot\\binom{5}{2}\\cdot9^{4} + 3\\cdot\\binom{5}{3}\\cdot9^{3} + 4\\cdot\\binom{5}{4}\\cdot9^{2} + 5\\cdot\\binom{5}{5}\\cdot9^{1} = 295245 + 131220 + 21870 + 1620 + 45 = 450000$"
   ]
  },
  {
   "cell_type": "markdown",
   "metadata": {},
   "source": [
    "- **Seven digit numbers**\n",
    "    - $1\\cdot\\binom{6}{1}\\cdot9^{6} + 2\\cdot\\binom{6}{2}\\cdot9^{5} + 3\\cdot\\binom{6}{3}\\cdot9^{4} + 4\\cdot\\binom{6}{4}\\cdot9^{3} + 5\\cdot\\binom{6}{5}\\cdot9^{2}+ 6\\cdot\\binom{6}{6}\\cdot9^{1}$"
   ]
  },
  {
   "cell_type": "markdown",
   "metadata": {},
   "source": [
    "- I don't feel like calculating this by hand so I'll write a function"
   ]
  },
  {
   "cell_type": "code",
   "execution_count": 56,
   "metadata": {},
   "outputs": [],
   "source": [
    "import operator as op\n",
    "from functools import reduce"
   ]
  },
  {
   "cell_type": "code",
   "execution_count": 57,
   "metadata": {},
   "outputs": [],
   "source": [
    "def ncr(n, r):\n",
    "    r = min(r, n-r)\n",
    "    numer = reduce(op.mul, range(n, n-r, -1), 1)\n",
    "    denom = reduce(op.mul, range(1, r+1), 1)\n",
    "    return numer / denom"
   ]
  },
  {
   "cell_type": "code",
   "execution_count": 60,
   "metadata": {},
   "outputs": [],
   "source": [
    "def calc(n_digits):\n",
    "    total = 0\n",
    "    for i in range(1, n_digits):\n",
    "        val = i*ncr(n_digits-1, i)*9**(n_digits-i)\n",
    "        total += val\n",
    "    return int(total)"
   ]
  },
  {
   "cell_type": "markdown",
   "metadata": {},
   "source": [
    "- Checking that it works"
   ]
  },
  {
   "cell_type": "code",
   "execution_count": 61,
   "metadata": {},
   "outputs": [
    {
     "data": {
      "text/plain": [
       "(36000, 450000)"
      ]
     },
     "execution_count": 61,
     "metadata": {},
     "output_type": "execute_result"
    }
   ],
   "source": [
    "calc(5), calc(6)"
   ]
  },
  {
   "cell_type": "code",
   "execution_count": 62,
   "metadata": {},
   "outputs": [
    {
     "data": {
      "text/plain": [
       "5400000"
      ]
     },
     "execution_count": 62,
     "metadata": {},
     "output_type": "execute_result"
    }
   ],
   "source": [
    "calc(7)"
   ]
  },
  {
   "cell_type": "markdown",
   "metadata": {},
   "source": [
    "- So, for 7 digits integers, we'll write zero 5,400,000 times"
   ]
  }
 ],
 "metadata": {
  "kernelspec": {
   "display_name": "Python 3",
   "language": "python",
   "name": "python3"
  },
  "language_info": {
   "codemirror_mode": {
    "name": "ipython",
    "version": 3
   },
   "file_extension": ".py",
   "mimetype": "text/x-python",
   "name": "python",
   "nbconvert_exporter": "python",
   "pygments_lexer": "ipython3",
   "version": "3.7.2"
  }
 },
 "nbformat": 4,
 "nbformat_minor": 2
}
