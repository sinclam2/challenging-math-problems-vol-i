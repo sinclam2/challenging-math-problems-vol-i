{
 "cells": [
  {
   "cell_type": "markdown",
   "metadata": {},
   "source": [
    "- Almost all the problems in this book as one of the following:\n",
    "    1. *How many?*\n",
    "    2. *In how many ways?*"
   ]
  },
  {
   "cell_type": "markdown",
   "metadata": {},
   "source": [
    "- These types of problems are **combinatorial**\n",
    "    - Exercises in calculating the different *combinations* of different things\n",
    "    - This branch of mathematics is called **combinatorial analysis**"
   ]
  },
  {
   "cell_type": "markdown",
   "metadata": {},
   "source": [
    "**Binomial Coefficient $n$ over $k$**\n",
    "\n",
    "$$\n",
    "\\binom{n}{k} = \\frac{n!}{k!(n-k)!} = \\frac{n\\cdot(n-1)\\cdot...\\cdot(n-k+1)}{k!}\n",
    "$$\n",
    "\n",
    "- This value tells us the number of ways $k$ items can be chosen from a set of $n$ (assuming the order that we choose them doesn't matter)"
   ]
  },
  {
   "cell_type": "markdown",
   "metadata": {},
   "source": [
    "- We use the notation $C_{n}^{k}$ to denote the number of subsets of size $k$ created from a set with $n$ elements\n",
    "    - So $C_{n}^{k} = \\binom{n}{k}$"
   ]
  },
  {
   "cell_type": "markdown",
   "metadata": {},
   "source": [
    "**Ordered Set**\n",
    "\n",
    "- If sets $\\{a,b\\}$ and $\\{b,a\\}$ are considered to be different (even though they include the same elements), then we're dealing with ordered sets"
   ]
  },
  {
   "cell_type": "markdown",
   "metadata": {},
   "source": [
    "- This means that if we have $n$ elements and we want to count the number of distinct ordered sets we can create by taking $k$ of them, there are $n$ choices for the first element, $n-1$ choices for the second element, until we have $n-k+1$ choices for the final element\n",
    "    - Therefore the number of ordered sets of $k$ elements is equal to:\n",
    "    \n",
    "$$\n",
    "n\\cdot(n-1)\\cdot...\\cdot(n-k+1) = k!\\cdot\\binom{n}{k}\n",
    "$$"
   ]
  },
  {
   "cell_type": "markdown",
   "metadata": {},
   "source": [
    "- If we denote this number by $P_{n}^{k}$, then:\n",
    "\n",
    "$$\n",
    "P_{n}^{k} = k! \\cdot C_{n}^{k}\n",
    "$$"
   ]
  }
 ],
 "metadata": {
  "kernelspec": {
   "display_name": "Python 3",
   "language": "python",
   "name": "python3"
  },
  "language_info": {
   "codemirror_mode": {
    "name": "ipython",
    "version": 3
   },
   "file_extension": ".py",
   "mimetype": "text/x-python",
   "name": "python",
   "nbconvert_exporter": "python",
   "pygments_lexer": "ipython3",
   "version": "3.6.5"
  }
 },
 "nbformat": 4,
 "nbformat_minor": 2
}
