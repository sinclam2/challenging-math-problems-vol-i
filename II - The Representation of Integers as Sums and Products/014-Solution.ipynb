{
 "cells": [
  {
   "cell_type": "markdown",
   "metadata": {},
   "source": [
    "**How many positive integers $\\leq$ 1260 are relatively prime to 1260?**"
   ]
  },
  {
   "cell_type": "markdown",
   "metadata": {},
   "source": [
    "_____\n",
    "\n",
    "- **Recall 1**: if two numbers $a$ and $b$ are relatively prime, then there is no integer $c > 1$ such that $c$ is a factor of both $a$ and $b$\n",
    "\n",
    "- **Recall 2**: each integer has a *prime decomposition* that expresses the integer as a product of its prime factors\n",
    "    - E.g. the prime decomposition of $22$ is $2\\cdot11$\n",
    "        - $120 = 2^{3}\\cdot3\\cdot5$"
   ]
  },
  {
   "cell_type": "markdown",
   "metadata": {},
   "source": [
    "- If we combine these two properties, we can conclude that if two numbers are relatively prime, it means that they don't have any of the same prime factors\n",
    "    - E.g. 21 and 25 are relatively prime, and $21 = 3\\cdot7$, $25 = 5^{2}$"
   ]
  },
  {
   "cell_type": "markdown",
   "metadata": {},
   "source": [
    "- The prime decomposition of 1260 is equal to:\n",
    "\n",
    "$$\n",
    "1260 = 2^{2}\\cdot3^{2}\\cdot5\\cdot7\n",
    "$$"
   ]
  },
  {
   "cell_type": "markdown",
   "metadata": {},
   "source": [
    "- Therefore, we want to count the numbers less than 1260 that are not divisible by 2, 3, 5, and 7\n",
    "    - This requires the same type of solution as the previous question\n",
    "        - We won't calculate these by hand"
   ]
  },
  {
   "cell_type": "code",
   "execution_count": 4,
   "metadata": {},
   "outputs": [],
   "source": [
    "from itertools import combinations\n",
    "import numpy as np"
   ]
  },
  {
   "cell_type": "code",
   "execution_count": 5,
   "metadata": {},
   "outputs": [],
   "source": [
    "list_primes = [2, 3, 5, 7]"
   ]
  },
  {
   "cell_type": "code",
   "execution_count": 22,
   "metadata": {},
   "outputs": [
    {
     "name": "stdout",
     "output_type": "stream",
     "text": [
      "[2] 630\n",
      "[3] 420\n",
      "[5] 252\n",
      "[7] 180\n",
      "[2, 3] 210\n",
      "[2, 5] 126\n",
      "[2, 7] 90\n",
      "[3, 5] 84\n",
      "[3, 7] 60\n",
      "[5, 7] 36\n",
      "[2, 3, 5] 42\n",
      "[2, 3, 7] 30\n",
      "[2, 5, 7] 18\n",
      "[3, 5, 7] 12\n",
      "[2, 3, 5, 7] 6\n",
      "total=972\n"
     ]
    }
   ],
   "source": [
    "total = 0\n",
    "\n",
    "for i in range(1, 5):\n",
    "    for comb in combinations(list_primes, i):\n",
    "        list_choices = list(comb)\n",
    "        product = np.prod(list_choices)\n",
    "        val = (1260) // product\n",
    "        total += (-1)**(i-1)*val\n",
    "        print(list_choices, val)\n",
    "print('total={}'.format(total))"
   ]
  },
  {
   "cell_type": "markdown",
   "metadata": {},
   "source": [
    "$$\n",
    "\\implies (\\text{Number of positive integers  ≤  1260 are relatively prime to 1260}) = 630 + 420 + 252 + 180 - 210 - 126 - 90 - 84 - 60 - 36 + 42 + 30 + 18 + 12 - 6 = 972\n",
    "$$"
   ]
  }
 ],
 "metadata": {
  "kernelspec": {
   "display_name": "Python 3",
   "language": "python",
   "name": "python3"
  },
  "language_info": {
   "codemirror_mode": {
    "name": "ipython",
    "version": 3
   },
   "file_extension": ".py",
   "mimetype": "text/x-python",
   "name": "python",
   "nbconvert_exporter": "python",
   "pygments_lexer": "ipython3",
   "version": "3.7.2"
  }
 },
 "nbformat": 4,
 "nbformat_minor": 2
}
