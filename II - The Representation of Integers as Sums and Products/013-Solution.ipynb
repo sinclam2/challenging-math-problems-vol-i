{
 "cells": [
  {
   "cell_type": "markdown",
   "metadata": {},
   "source": [
    "### a. \n",
    "\n",
    "- **How many positive integers less than 1000 are divisible neither by 5 nor by 7?**"
   ]
  },
  {
   "cell_type": "markdown",
   "metadata": {},
   "source": [
    "### b.\n",
    "\n",
    "- **How many of these numbers are divisible neither by 3 nor by 5 nor by 7?**"
   ]
  },
  {
   "cell_type": "markdown",
   "metadata": {},
   "source": [
    "____\n",
    "\n",
    "### a. \n",
    "\n",
    "- Before we start, let's recall the finding from the previous question: if $A$ and $B$ are sets and $\\#(A)$ denotes the number of elements in $A$, then:\n",
    "\n",
    "$$\n",
    "\\#(A\\cup B) = \\#(A) + \\#(B) - \\#(A\\cap B)\n",
    "$$\n",
    "\n",
    "- *How can we count the number of integers less than $n$ that are divisible by $m$?*\n",
    "    - Let's look at a simple example: *How many integers less than 20 are divisible by 5?*"
   ]
  },
  {
   "cell_type": "markdown",
   "metadata": {},
   "source": [
    "- Well, for a number to be divisible by 5, it needs to be a multiple of 5\n",
    "    - So in our example, the integers are 5, 10, and 15"
   ]
  },
  {
   "cell_type": "markdown",
   "metadata": {},
   "source": [
    "- So, we could loop through all integers starting at 1 and calculate $5\\cdot i$ until $5\\cdot i \\geq 20$\n",
    "    - But we don't need to do this, since we can just take the closest integer that's less than 20 i.e. 19, and divide it by 5:\n",
    "    \n",
    "$$\n",
    "\\frac{19}{5} = 3.8\n",
    "$$"
   ]
  },
  {
   "cell_type": "markdown",
   "metadata": {},
   "source": [
    "- As we can see, 5 goes into 19 3.8 times\n",
    "    - So it only \"fully\" goes into 19 three times i.e. there are three numbers less than 19 that are multiples of 5"
   ]
  },
  {
   "cell_type": "markdown",
   "metadata": {},
   "source": [
    "- Therefore, if we want to know the number of integers less than $n$ that are divisible by $m$, we take the closest integer that's less than $\\alpha = n/m$\n",
    "    - **Recall**: this is called the *integral part of $\\alpha$* and is denoted $[\\alpha]$"
   ]
  },
  {
   "cell_type": "markdown",
   "metadata": {},
   "source": [
    "- So, we can now move onto some calculations\n",
    "    - First, we want to calculate the number of integers less than 1000 that are divisible by 7\n",
    "    - Denote this set of integers as $A$\n",
    "    \n",
    "$$\n",
    "\\#(A) = \\left[\\frac{1000-1}{7}\\right] = [142.714] = 142\n",
    "$$"
   ]
  },
  {
   "cell_type": "markdown",
   "metadata": {},
   "source": [
    "- Similarly, denote the set of integers divisible by 5 as $B$:\n",
    "\n",
    "$$\n",
    "\\#(B) = \\left[\\frac{1000-1}{5}\\right] = [199.8] = 199\n",
    "$$"
   ]
  },
  {
   "cell_type": "markdown",
   "metadata": {},
   "source": [
    "- Then, if an integer is divisible by BOTH 5 and 7, it must be divisible by their product i.e. 35\n",
    "\n",
    "$$\n",
    "\\#(A\\cap B) = \\left[\\frac{1000-1}{35}\\right] = [28.58] = 28\n",
    "$$"
   ]
  },
  {
   "cell_type": "markdown",
   "metadata": {},
   "source": [
    "- We know that there are 999 integers less than 1000, and if a number is divisible by EITHER 5 or 7, it is in the set $A\\cup B$\n",
    "    - Therefore, if a number is NOT divisible by 5 nor 7, it is not in $A\\cup B$"
   ]
  },
  {
   "cell_type": "markdown",
   "metadata": {},
   "source": [
    "- Putting it all together:\n",
    "\n",
    "$$\n",
    "\\left (\\text{Number of integers less than 1000 not divisible by 5 nor 7} \\right ) = 999 - \\#(A \\cup B)\n",
    "$$"
   ]
  },
  {
   "cell_type": "markdown",
   "metadata": {},
   "source": [
    "- And we know that $\\#(A\\cup B)$ is equal to:\n",
    "\n",
    "$$\n",
    "\\#(A\\cup B) = \\#(A) + \\#(B) + \\#(A\\cap B) = 142 + 199 - 28 = 313\n",
    "$$"
   ]
  },
  {
   "cell_type": "markdown",
   "metadata": {},
   "source": [
    "$$\n",
    "\\implies \\left (\\text{Number of integers less than 1000 not divisible by 5 nor 7} \\right ) = 999 - 313 = 686\n",
    "$$"
   ]
  },
  {
   "cell_type": "markdown",
   "metadata": {},
   "source": [
    "______\n",
    "\n",
    "### b.\n",
    "\n",
    "- **Recall:**\n",
    "\n",
    "$$\n",
    "\\#(A\\cup B\\cup C) = \\#(A) + \\#(B) + \\#(C) - \\#(A\\cap B) - \\#(A \\cap C) - \\#(B\\cap C) + \\#(A\\cap B\\cap C)\n",
    "$$"
   ]
  },
  {
   "cell_type": "markdown",
   "metadata": {},
   "source": [
    "- Using the findings from part a:\n",
    "    - $\\#(A) = 142$\n",
    "    - $\\#(B) = 199$\n",
    "    - $\\#(A\\cap B) = 28$\n",
    "\n",
    "- And using the same calculation method as above, denoting the set of integers divisible by 3 as $C$:\n",
    "\n",
    "$$\n",
    "\\#(C) = \\left [\\frac{999}{3} \\right ] = [333] = 333\n",
    "$$"
   ]
  },
  {
   "cell_type": "markdown",
   "metadata": {},
   "source": [
    "$$\n",
    "\\#(C\\cap A) = \\left [\\frac{999}{7\\cdot3} \\right ] = [47.571] = 47\n",
    "$$"
   ]
  },
  {
   "cell_type": "markdown",
   "metadata": {},
   "source": [
    "$$\n",
    "\\#(C\\cap B) = \\left [\\frac{999}{5\\cdot3} \\right ] = [66.67] = 66\n",
    "$$"
   ]
  },
  {
   "cell_type": "markdown",
   "metadata": {},
   "source": [
    "$$\n",
    "\\#(C\\cap A \\cap B) = \\left [\\frac{999}{7\\cdot5\\cdot3} \\right ] = [9.514] = 9\n",
    "$$"
   ]
  },
  {
   "cell_type": "markdown",
   "metadata": {},
   "source": [
    "$$\n",
    "\\implies \\#(A\\cup B\\cup C) = 142 + 199 + 333 - 28 - 47 - 66 + 9 = 542\n",
    "$$"
   ]
  },
  {
   "cell_type": "markdown",
   "metadata": {},
   "source": [
    "$$\n",
    "\\implies \\left (\\text{Number of integers less than 1000 not divisible by 5 nor 7 nor 3} \\right ) = 999 - 542 = 457\n",
    "$$"
   ]
  },
  {
   "cell_type": "markdown",
   "metadata": {},
   "source": [
    "______\n",
    "\n",
    "- Let's confirm these real quick:\n",
    "\n",
    "**a**"
   ]
  },
  {
   "cell_type": "code",
   "execution_count": 1,
   "metadata": {},
   "outputs": [
    {
     "data": {
      "text/plain": [
       "686"
      ]
     },
     "execution_count": 1,
     "metadata": {},
     "output_type": "execute_result"
    }
   ],
   "source": [
    "len([x for x in range(1, 1000) if (x % 5 != 0) & (x % 7 != 0)])"
   ]
  },
  {
   "cell_type": "markdown",
   "metadata": {},
   "source": [
    "**b**"
   ]
  },
  {
   "cell_type": "code",
   "execution_count": 2,
   "metadata": {},
   "outputs": [
    {
     "data": {
      "text/plain": [
       "457"
      ]
     },
     "execution_count": 2,
     "metadata": {},
     "output_type": "execute_result"
    }
   ],
   "source": [
    "len([x for x in range(1, 1000) if (x % 5 != 0) & (x % 7 != 0)& (x % 3 != 0)])"
   ]
  },
  {
   "cell_type": "markdown",
   "metadata": {},
   "source": [
    "- Eyyyyyyyyyyyyyyy"
   ]
  }
 ],
 "metadata": {
  "kernelspec": {
   "display_name": "Python 3",
   "language": "python",
   "name": "python3"
  },
  "language_info": {
   "codemirror_mode": {
    "name": "ipython",
    "version": 3
   },
   "file_extension": ".py",
   "mimetype": "text/x-python",
   "name": "python",
   "nbconvert_exporter": "python",
   "pygments_lexer": "ipython3",
   "version": "3.7.2"
  }
 },
 "nbformat": 4,
 "nbformat_minor": 2
}
