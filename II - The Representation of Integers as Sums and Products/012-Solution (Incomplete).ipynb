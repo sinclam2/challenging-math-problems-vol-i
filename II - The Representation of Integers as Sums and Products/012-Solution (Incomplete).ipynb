{
 "cells": [
  {
   "cell_type": "markdown",
   "metadata": {},
   "source": [
    "### a.\n",
    "\n",
    "- For any finite set $S$, let $\\#(S)$ denote the number of elements of $S$\n",
    "    - This is called the *order of $S$* or the *cardinality of $S$*\n",
    "    \n",
    "- **Prove that if $A$ and $B$ are finite sets, then:**\n",
    "\n",
    "$$\n",
    "\\#(A \\cup B) = \\#(A) + \\#(B) - \\#(A\\cap B)\n",
    "$$"
   ]
  },
  {
   "cell_type": "markdown",
   "metadata": {},
   "source": [
    "### b.\n",
    "\n",
    "- **Prove that if $A$, $B$, and $C$ are finite sets, then:**\n",
    "\n",
    "$$\n",
    "\\#(A\\cup B\\cup C) = \\#(A) + \\#(B) + \\#(C) - \\#(A\\cap B) - \\#(A \\cap C) - \\#(B\\cap C) + \\#(A\\cap B\\cap C)\n",
    "$$"
   ]
  },
  {
   "cell_type": "markdown",
   "metadata": {},
   "source": [
    "_____\n",
    "\n",
    "### a. "
   ]
  },
  {
   "cell_type": "markdown",
   "metadata": {},
   "source": [
    "- The set $A \\cup B$ contains all elements that are in **either** $A$ **OR** $B$\n",
    "- The set $A \\cap B$ contains all elements that are in **both** $A$ **AND** $B$"
   ]
  },
  {
   "cell_type": "markdown",
   "metadata": {},
   "source": [
    "- So, we know that $\\#(A) \\geq \\#(A\\cap B)$ since when an element is in $(A\\cap B)$, it is impossible that it's not in $A$ while it is possible to have an element in $A$ but not $(A\\cap B)$\n",
    "- This means that if $\\#(A) = a$ and $\\#(A\\cap B) = n$, then the number of elements that are in $A$, but aren't in $(A\\cap B)$ is equal to $a-n$ i.e. $\\#(A- A\\cap B) = a-n$\n",
    "    - Since anything in $(A\\cap B)$ is in both $A$ and $B$, we can interpret $a-n$ as the number of elements in $A$ that aren't in $B$"
   ]
  },
  {
   "cell_type": "markdown",
   "metadata": {},
   "source": [
    "- Similarly, if $\\#(B) = b$, then $\\#(B- A\\cap B) = b-n$"
   ]
  },
  {
   "cell_type": "markdown",
   "metadata": {},
   "source": [
    "- To summarize our findings so far:\n",
    "    1. $\\#(A\\cap B) = n$\n",
    "    2. $\\#(A- A\\cap B) = a-n$\n",
    "    3. $\\#(B- A\\cap B) = b-n$"
   ]
  },
  {
   "cell_type": "markdown",
   "metadata": {},
   "source": [
    "- For some element $\\alpha \\in A\\cup B$, we know that one of the following MUST be true:\n",
    "    1.  $\\alpha \\in A \\cap B$ i.e. $\\alpha$ is an element of BOTH $A$ and $B$\n",
    "    2.  $\\alpha \\in A- A\\cap B$ i.e. $\\alpha$ is an element of $A$ BUT NOT $B$\n",
    "    3.  $\\alpha \\in B- A\\cap B$ i.e. $\\alpha$ is an element of $B$ BUT NOT $A$\n",
    "    \n",
    "- In other words, **it is not possible for $\\alpha$ to not be in one of the sets**\n",
    "    - Furthermore, it is not possible for an element of one of the three sets to not be contained in $A\\cup B$ by definition"
   ]
  },
  {
   "cell_type": "markdown",
   "metadata": {},
   "source": [
    "- So, to count the number of elements in $A\\cup B$, we just need to take the sum:\n",
    "\n",
    "$$\n",
    "\\#(A\\cup B) = n + (a-n) + (b-n) = a + b - n = \\#(A) + \\#(B) - \\#(A\\cap B)\n",
    "$$"
   ]
  },
  {
   "cell_type": "markdown",
   "metadata": {},
   "source": [
    "_____\n",
    "\n",
    "### b. "
   ]
  },
  {
   "cell_type": "markdown",
   "metadata": {},
   "source": [
    "- For each $a \\in A$, there are four possibilities\n",
    "    1. $a \\notin B$ and $a \\notin C$\n",
    "    2. $a \\in B$ and $a \\notin C$\n",
    "    3. $a \\notin B$ and $a \\in C$\n",
    "    4. $a \\in B$ and $a \\in C$"
   ]
  }
 ],
 "metadata": {
  "kernelspec": {
   "display_name": "Python 3",
   "language": "python",
   "name": "python3"
  },
  "language_info": {
   "codemirror_mode": {
    "name": "ipython",
    "version": 3
   },
   "file_extension": ".py",
   "mimetype": "text/x-python",
   "name": "python",
   "nbconvert_exporter": "python",
   "pygments_lexer": "ipython3",
   "version": "3.7.2"
  }
 },
 "nbformat": 4,
 "nbformat_minor": 2
}
