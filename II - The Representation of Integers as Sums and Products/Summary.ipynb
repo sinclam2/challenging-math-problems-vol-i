{
 "cells": [
  {
   "cell_type": "markdown",
   "metadata": {},
   "source": [
    "### Notation\n",
    "\n",
    "- The symbol $[x]$ is called the **integral part of $x$** and denotes the *greatest integer which is $\\leq x$*\n",
    "    - In other words, we truncate the number after the decimal so $1.11 \\rightarrow 1$\n",
    "    - For negatives, $-8.5 \\rightarrow -9$"
   ]
  },
  {
   "cell_type": "markdown",
   "metadata": {},
   "source": [
    "- The symbol $N(x)$ tells us the **nearest integer to $x$**\n",
    "    - $8.9 \\rightarrow 8$"
   ]
  },
  {
   "cell_type": "markdown",
   "metadata": {},
   "source": [
    "- Depending on the decimals, $N(x)$ can either map to $[x]$ or $[x+1]$\n",
    "    - E.g. $N(8.9) = 9 = [8.9]+1$ but $N(8,2) = 8 = [8.2]$"
   ]
  },
  {
   "cell_type": "markdown",
   "metadata": {},
   "source": [
    "- If $x - [x] = 1/2$, then $N(x)$ is equally close to $[x]$ and $[x]+1$\n",
    "    - The convention we'll use is that $N(x) = [x]+1$ i.e. *we'll round up*\n",
    "        - E.g. $N(8.5) = 9$, $N(-8.5) = -8$"
   ]
  },
  {
   "cell_type": "markdown",
   "metadata": {},
   "source": [
    "- If $A$ and $B$ are two sets, $A\\cup B$ is called **$A$ union $B$** and denotes *the set of all elements in $A$ and/or $B$*"
   ]
  },
  {
   "cell_type": "markdown",
   "metadata": {},
   "source": [
    "- $A \\cap B$ is called **$A$ intersect $B$** and denotes *the set of all elements in BOTH $A$ and $B$*"
   ]
  }
 ],
 "metadata": {
  "kernelspec": {
   "display_name": "Python 3",
   "language": "python",
   "name": "python3"
  },
  "language_info": {
   "codemirror_mode": {
    "name": "ipython",
    "version": 3
   },
   "file_extension": ".py",
   "mimetype": "text/x-python",
   "name": "python",
   "nbconvert_exporter": "python",
   "pygments_lexer": "ipython3",
   "version": "3.7.2"
  }
 },
 "nbformat": 4,
 "nbformat_minor": 2
}
