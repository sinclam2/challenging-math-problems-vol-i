{
 "cells": [
  {
   "cell_type": "markdown",
   "metadata": {},
   "source": [
    "**How many positive integers $x\\leq 10000$ are such that the difference $2^{x}-x^{2}$ is not divisible by 7?**"
   ]
  },
  {
   "cell_type": "markdown",
   "metadata": {},
   "source": [
    "_____\n",
    "\n",
    "- Before we think about this in the general sense, let's try a few examples:\n",
    "\n",
    "$$\n",
    "x=2 \\implies 2^{x} - x^{2} = 2^{2} - 2^{2} = 0 = 0\\cdot7 \\implies \\text{Divisible by 7}\n",
    "$$"
   ]
  },
  {
   "cell_type": "markdown",
   "metadata": {},
   "source": [
    "$$\n",
    "x = 3 \\implies 2^{x} - x^{2} = 2^{3} - 3^{2} = 8 - 9 = -1 \\implies \\text{NOT Divisible by 7}\n",
    "$$"
   ]
  },
  {
   "cell_type": "markdown",
   "metadata": {},
   "source": [
    "$$\n",
    "x = 4 \\implies 2^{x} - x^{2} = 2^{4} - 4^{2} = 16 - 16 = 0 = 0\\cdot7 \\implies \\text{Divisible by 7}\n",
    "$$"
   ]
  },
  {
   "cell_type": "markdown",
   "metadata": {},
   "source": [
    "$$\n",
    "x = 5 \\implies 2^{x} - x^{2} = 2^{5} - 5^{2} = 32 - 25 = 7 = 1\\cdot7 \\implies \\text{Divisible by 7}\n",
    "$$"
   ]
  },
  {
   "cell_type": "markdown",
   "metadata": {},
   "source": [
    "$$\n",
    "x = 6 \\implies 2^{x} - x^{2} = 2^{6} - 6^{2} = 64 - 36 = 28 = 4\\cdot7 \\implies \\text{Divisible by 7}\n",
    "$$"
   ]
  },
  {
   "cell_type": "markdown",
   "metadata": {},
   "source": [
    "$$\n",
    "x = 7 \\implies 2^{x} - x^{2} = 2^{7} - 7^{2} = 128 - 49 = 79\\implies \\text{NOT Divisible by 7}\n",
    "$$"
   ]
  },
  {
   "cell_type": "markdown",
   "metadata": {},
   "source": [
    "$$\n",
    "x = 8 \\implies 2^{x} - x^{2} = 2^{8} - 8^{2} = 256 - 64 = 192\\implies \\text{NOT Divisible by 7}\n",
    "$$"
   ]
  },
  {
   "cell_type": "markdown",
   "metadata": {},
   "source": [
    "$$\n",
    "x = 9 \\implies 2^{x} - x^{2} = 2^{9} - 9^{2} = 512 - 81 = 431\\implies \\text{NOT Divisible by 7}\n",
    "$$"
   ]
  },
  {
   "cell_type": "markdown",
   "metadata": {},
   "source": [
    "$$\n",
    "x = 10 \\implies 2^{x} - x^{2} = 2^{10} - 10^{2} = 1024 - 100 = 924 = 132\\cdot7\\implies \\text{Divisible by 7}\n",
    "$$"
   ]
  },
  {
   "cell_type": "markdown",
   "metadata": {},
   "source": [
    "- As we can see, for $x\\geq 4$, then $2^{x} > x^{2}$"
   ]
  },
  {
   "cell_type": "markdown",
   "metadata": {},
   "source": [
    "- If we look at $x=5$, the difference was $32 - 25$. Now, taking a closer look at the fraction...\n",
    "\n",
    "$$\n",
    "\\frac{32 - 25}{7} = \\frac{32}{7} - \\frac{25}{7} = \\left (\\frac{28 + 4}{7} \\right )- \\left (\\frac{21 + 4}{7} \\right ) = \\left (4 + \\frac{4}{7} \\right ) - \\left (3 + \\frac{4}{7} \\right )\n",
    "$$"
   ]
  },
  {
   "cell_type": "markdown",
   "metadata": {},
   "source": [
    "$$\n",
    "= (4-3) + (4/7 - 4/7) = 1 + 0 = 1\n",
    "$$"
   ]
  },
  {
   "cell_type": "markdown",
   "metadata": {},
   "source": [
    "- Let's do the same thing for $x=6$:\n",
    "\n",
    "$$\n",
    "\\frac{64-36}{7} = \\frac{63 + 1}{7} - \\frac{35 + 1}{7} = \\left (9-5 \\right ) + \\left (1/7 - 1/7 \\right) = 4 - 0 = 4\n",
    "$$"
   ]
  },
  {
   "cell_type": "markdown",
   "metadata": {},
   "source": [
    "- And finally, one last time with $x=7$:\n",
    "\n",
    "$$\n",
    "\\frac{128-49}{7} = \\frac{126 + 2}{7} - \\frac{49+0}{7} = (18 - 7) + (2/7 - 0/7) = 11 + 2/7\n",
    "$$"
   ]
  },
  {
   "cell_type": "markdown",
   "metadata": {},
   "source": [
    "- *What do we notice from these three examples?*\n",
    "    - For the ones where the difference is divisible by 7, the remainders are the same\n",
    "        - i.e. $2^{x} \\mod 7 = x^{2} \\mod 7$"
   ]
  },
  {
   "cell_type": "markdown",
   "metadata": {},
   "source": [
    "- This means that if the difference is divisble by 7, then we can express $2^{x}$ and $x^{2}$ as:\n",
    "\n",
    "$$\n",
    "2^{x} = 7^{\\alpha} + \\epsilon \\\\\n",
    "x^{2} = 7^{\\beta} + \\epsilon\n",
    "$$"
   ]
  },
  {
   "cell_type": "markdown",
   "metadata": {},
   "source": [
    "- Above, $\\epsilon$ is the remainder and $\\alpha$ and $\\beta$ are integers\n",
    "    - **Note**: as we can see from the examples above, $x \\geq 5 \\implies \\alpha > \\beta$"
   ]
  },
  {
   "cell_type": "markdown",
   "metadata": {},
   "source": [
    "- Let's go through some examples again, but this time consider the remainders\n",
    "    - We'll start by only considering the remainders for $2^{x}$"
   ]
  },
  {
   "cell_type": "code",
   "execution_count": 40,
   "metadata": {
    "scrolled": false
   },
   "outputs": [
    {
     "name": "stdout",
     "output_type": "stream",
     "text": [
      "x = 1, remainder = 2\n",
      "x = 2, remainder = 4\n",
      "x = 3, remainder = 1\n",
      "x = 4, remainder = 2\n",
      "x = 5, remainder = 4\n",
      "x = 6, remainder = 1\n",
      "x = 7, remainder = 2\n",
      "x = 8, remainder = 4\n",
      "x = 9, remainder = 1\n",
      "x = 10, remainder = 2\n",
      "x = 11, remainder = 4\n",
      "x = 12, remainder = 1\n",
      "x = 13, remainder = 2\n",
      "x = 14, remainder = 4\n",
      "x = 15, remainder = 1\n",
      "x = 16, remainder = 2\n",
      "x = 17, remainder = 4\n",
      "x = 18, remainder = 1\n",
      "x = 19, remainder = 2\n",
      "x = 20, remainder = 4\n",
      "x = 21, remainder = 1\n",
      "x = 22, remainder = 2\n",
      "x = 23, remainder = 4\n",
      "x = 24, remainder = 1\n",
      "x = 25, remainder = 2\n",
      "x = 26, remainder = 4\n",
      "x = 27, remainder = 1\n",
      "x = 28, remainder = 2\n",
      "x = 29, remainder = 4\n"
     ]
    }
   ],
   "source": [
    "for x in range(1, 30):\n",
    "    val = 2**x\n",
    "    remainder = val % 7\n",
    "    print('x = {}, remainder = {}'.format(x, remainder))"
   ]
  },
  {
   "cell_type": "markdown",
   "metadata": {},
   "source": [
    "- As we can see, the remainders follow the pattern [2, 4, 1]\n",
    "    - Now, let's look at $x^{2}$"
   ]
  },
  {
   "cell_type": "code",
   "execution_count": 41,
   "metadata": {},
   "outputs": [
    {
     "name": "stdout",
     "output_type": "stream",
     "text": [
      "x = 1, remainder = 1\n",
      "x = 2, remainder = 4\n",
      "x = 3, remainder = 2\n",
      "x = 4, remainder = 2\n",
      "x = 5, remainder = 4\n",
      "x = 6, remainder = 1\n",
      "x = 7, remainder = 0\n",
      "x = 8, remainder = 1\n",
      "x = 9, remainder = 4\n",
      "x = 10, remainder = 2\n",
      "x = 11, remainder = 2\n",
      "x = 12, remainder = 4\n",
      "x = 13, remainder = 1\n",
      "x = 14, remainder = 0\n",
      "x = 15, remainder = 1\n",
      "x = 16, remainder = 4\n",
      "x = 17, remainder = 2\n",
      "x = 18, remainder = 2\n",
      "x = 19, remainder = 4\n",
      "x = 20, remainder = 1\n",
      "x = 21, remainder = 0\n",
      "x = 22, remainder = 1\n",
      "x = 23, remainder = 4\n",
      "x = 24, remainder = 2\n",
      "x = 25, remainder = 2\n",
      "x = 26, remainder = 4\n",
      "x = 27, remainder = 1\n",
      "x = 28, remainder = 0\n",
      "x = 29, remainder = 1\n"
     ]
    }
   ],
   "source": [
    "for x in range(1, 30):\n",
    "    val = x**2\n",
    "    remainder = val % 7\n",
    "    print('x = {}, remainder = {}'.format(x, remainder))"
   ]
  },
  {
   "cell_type": "markdown",
   "metadata": {},
   "source": [
    "- As we can see, the remainders follow the pattern [1,4,2,2,4,1,0]"
   ]
  },
  {
   "cell_type": "markdown",
   "metadata": {},
   "source": [
    "- So now that we have the pattern for the remainders for both, let's see how they line up"
   ]
  },
  {
   "cell_type": "markdown",
   "metadata": {},
   "source": [
    "- The first list of remainders has 3 elements, and the second has 7\n",
    "    - This means that if we repeat the first list 7 times and the second 3 times, our two new lists will have the same length"
   ]
  },
  {
   "cell_type": "code",
   "execution_count": 43,
   "metadata": {},
   "outputs": [],
   "source": [
    "import pandas as pd"
   ]
  },
  {
   "cell_type": "code",
   "execution_count": 81,
   "metadata": {},
   "outputs": [
    {
     "data": {
      "text/html": [
       "<div>\n",
       "<style scoped>\n",
       "    .dataframe tbody tr th:only-of-type {\n",
       "        vertical-align: middle;\n",
       "    }\n",
       "\n",
       "    .dataframe tbody tr th {\n",
       "        vertical-align: top;\n",
       "    }\n",
       "\n",
       "    .dataframe thead th {\n",
       "        text-align: right;\n",
       "    }\n",
       "</style>\n",
       "<table border=\"1\" class=\"dataframe\">\n",
       "  <thead>\n",
       "    <tr style=\"text-align: right;\">\n",
       "      <th></th>\n",
       "      <th>2^x remainders</th>\n",
       "      <th>x^2 remainders</th>\n",
       "      <th>matching remainders</th>\n",
       "    </tr>\n",
       "  </thead>\n",
       "  <tbody>\n",
       "    <tr>\n",
       "      <th>0</th>\n",
       "      <td>2</td>\n",
       "      <td>1</td>\n",
       "      <td>False</td>\n",
       "    </tr>\n",
       "    <tr>\n",
       "      <th>1</th>\n",
       "      <td>4</td>\n",
       "      <td>4</td>\n",
       "      <td>True</td>\n",
       "    </tr>\n",
       "    <tr>\n",
       "      <th>2</th>\n",
       "      <td>1</td>\n",
       "      <td>2</td>\n",
       "      <td>False</td>\n",
       "    </tr>\n",
       "    <tr>\n",
       "      <th>3</th>\n",
       "      <td>2</td>\n",
       "      <td>2</td>\n",
       "      <td>True</td>\n",
       "    </tr>\n",
       "    <tr>\n",
       "      <th>4</th>\n",
       "      <td>4</td>\n",
       "      <td>4</td>\n",
       "      <td>True</td>\n",
       "    </tr>\n",
       "    <tr>\n",
       "      <th>5</th>\n",
       "      <td>1</td>\n",
       "      <td>1</td>\n",
       "      <td>True</td>\n",
       "    </tr>\n",
       "    <tr>\n",
       "      <th>6</th>\n",
       "      <td>2</td>\n",
       "      <td>0</td>\n",
       "      <td>False</td>\n",
       "    </tr>\n",
       "    <tr>\n",
       "      <th>7</th>\n",
       "      <td>4</td>\n",
       "      <td>1</td>\n",
       "      <td>False</td>\n",
       "    </tr>\n",
       "    <tr>\n",
       "      <th>8</th>\n",
       "      <td>1</td>\n",
       "      <td>4</td>\n",
       "      <td>False</td>\n",
       "    </tr>\n",
       "    <tr>\n",
       "      <th>9</th>\n",
       "      <td>2</td>\n",
       "      <td>2</td>\n",
       "      <td>True</td>\n",
       "    </tr>\n",
       "    <tr>\n",
       "      <th>10</th>\n",
       "      <td>4</td>\n",
       "      <td>2</td>\n",
       "      <td>False</td>\n",
       "    </tr>\n",
       "    <tr>\n",
       "      <th>11</th>\n",
       "      <td>1</td>\n",
       "      <td>4</td>\n",
       "      <td>False</td>\n",
       "    </tr>\n",
       "    <tr>\n",
       "      <th>12</th>\n",
       "      <td>2</td>\n",
       "      <td>1</td>\n",
       "      <td>False</td>\n",
       "    </tr>\n",
       "    <tr>\n",
       "      <th>13</th>\n",
       "      <td>4</td>\n",
       "      <td>0</td>\n",
       "      <td>False</td>\n",
       "    </tr>\n",
       "    <tr>\n",
       "      <th>14</th>\n",
       "      <td>1</td>\n",
       "      <td>1</td>\n",
       "      <td>True</td>\n",
       "    </tr>\n",
       "    <tr>\n",
       "      <th>15</th>\n",
       "      <td>2</td>\n",
       "      <td>4</td>\n",
       "      <td>False</td>\n",
       "    </tr>\n",
       "    <tr>\n",
       "      <th>16</th>\n",
       "      <td>4</td>\n",
       "      <td>2</td>\n",
       "      <td>False</td>\n",
       "    </tr>\n",
       "    <tr>\n",
       "      <th>17</th>\n",
       "      <td>1</td>\n",
       "      <td>2</td>\n",
       "      <td>False</td>\n",
       "    </tr>\n",
       "    <tr>\n",
       "      <th>18</th>\n",
       "      <td>2</td>\n",
       "      <td>4</td>\n",
       "      <td>False</td>\n",
       "    </tr>\n",
       "    <tr>\n",
       "      <th>19</th>\n",
       "      <td>4</td>\n",
       "      <td>1</td>\n",
       "      <td>False</td>\n",
       "    </tr>\n",
       "    <tr>\n",
       "      <th>20</th>\n",
       "      <td>1</td>\n",
       "      <td>0</td>\n",
       "      <td>False</td>\n",
       "    </tr>\n",
       "  </tbody>\n",
       "</table>\n",
       "</div>"
      ],
      "text/plain": [
       "    2^x remainders  x^2 remainders  matching remainders\n",
       "0                2               1                False\n",
       "1                4               4                 True\n",
       "2                1               2                False\n",
       "3                2               2                 True\n",
       "4                4               4                 True\n",
       "5                1               1                 True\n",
       "6                2               0                False\n",
       "7                4               1                False\n",
       "8                1               4                False\n",
       "9                2               2                 True\n",
       "10               4               2                False\n",
       "11               1               4                False\n",
       "12               2               1                False\n",
       "13               4               0                False\n",
       "14               1               1                 True\n",
       "15               2               4                False\n",
       "16               4               2                False\n",
       "17               1               2                False\n",
       "18               2               4                False\n",
       "19               4               1                False\n",
       "20               1               0                False"
      ]
     },
     "execution_count": 81,
     "metadata": {},
     "output_type": "execute_result"
    }
   ],
   "source": [
    "df = pd.DataFrame({'2^x remainders':7*[2,4,1],\n",
    "                   'x^2 remainders':3*[1,4,2,2,4,1,0]})\n",
    "df['matching remainders'] = df['2^x remainders'] == df['x^2 remainders']\n",
    "df"
   ]
  },
  {
   "cell_type": "markdown",
   "metadata": {},
   "source": [
    "- So, as we can see, for every 21 values of $x$, the remainders will match 6 times"
   ]
  },
  {
   "cell_type": "markdown",
   "metadata": {},
   "source": [
    "- **Now we have everything we need**\n",
    "\n",
    "- We can first calculate how many times 21 goes into 10,000\n",
    "\n",
    "$$\n",
    "\\left [ \\frac{10000}{21} \\right] = [476.19] = 476\n",
    "$$\n",
    "\n",
    "- Since $476 \\cdot 21 = 9996$, there will be $476\\cdot 6 = 2,856$  matches between 1 and 9996 inclusively"
   ]
  },
  {
   "cell_type": "markdown",
   "metadata": {},
   "source": [
    "- The remaining numbers to check are 9,997, 9,998, 9,999, and 10,000\n",
    "    - But as we can see from the table above, the remainders match for 2 of the first 4 remainders in the lined up lists"
   ]
  },
  {
   "cell_type": "markdown",
   "metadata": {},
   "source": [
    "- Therefore, the total number of integers less than or equal to 10,000 that satisfy our condition is equal to:\n",
    "\n",
    "$$\n",
    "\\text{N integers}_{divisible} = 2856 + 2 = 2858\n",
    "$$"
   ]
  },
  {
   "cell_type": "markdown",
   "metadata": {},
   "source": [
    "- So now, since we're after the number of integers NOT divisible by 7:\n",
    "\n",
    "$$\n",
    "\\text{N integers}_{not divisible} = 10000 - \\text{N integers}_{divisible} = 7142\n",
    "$$"
   ]
  },
  {
   "cell_type": "markdown",
   "metadata": {},
   "source": [
    "**Therefore, the number of positive integers $x\\leq 10000$ such that the difference $2^{x}-x^{2}$ is not divisible by 7 is equal to 7142**"
   ]
  }
 ],
 "metadata": {
  "kernelspec": {
   "display_name": "Python 3",
   "language": "python",
   "name": "python3"
  },
  "language_info": {
   "codemirror_mode": {
    "name": "ipython",
    "version": 3
   },
   "file_extension": ".py",
   "mimetype": "text/x-python",
   "name": "python",
   "nbconvert_exporter": "python",
   "pygments_lexer": "ipython3",
   "version": "3.7.2"
  }
 },
 "nbformat": 4,
 "nbformat_minor": 2
}
